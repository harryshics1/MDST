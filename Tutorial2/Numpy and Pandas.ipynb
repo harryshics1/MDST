{
 "cells": [
  {
   "cell_type": "markdown",
   "metadata": {
    "colab_type": "text",
    "id": "89pjJlG5shtG"
   },
   "source": [
    "# Python Lists"
   ]
  },
  {
   "cell_type": "markdown",
   "metadata": {
    "colab_type": "text",
    "id": "taKvaoHzshtJ"
   },
   "source": [
    "## Creating"
   ]
  },
  {
   "cell_type": "code",
   "execution_count": 1,
   "metadata": {
    "colab": {},
    "colab_type": "code",
    "id": "4p2uxY1yshtK"
   },
   "outputs": [],
   "source": [
    "# this is a python list\n",
    "a = [42, 7, 13, 24601, 2001, 3.50]"
   ]
  },
  {
   "cell_type": "code",
   "execution_count": 2,
   "metadata": {
    "colab": {},
    "colab_type": "code",
    "id": "vHszRQTjshtN",
    "outputId": "00de33b1-382b-4e3c-a30a-effafe239926"
   },
   "outputs": [],
   "source": [
    "# this is a list comprehension -- think of it as a sexy for loop\n",
    "\n",
    "# the following gives us a list in which we multiplied each element in a by 2\n",
    "z = [i * 2 for i in a]\n",
    "z"
   ]
  },
  {
   "cell_type": "markdown",
   "metadata": {
    "colab_type": "text",
    "id": "NH-bteXXshtQ"
   },
   "source": [
    "## Indexing"
   ]
  },
  {
   "cell_type": "code",
   "execution_count": 3,
   "metadata": {
    "colab": {},
    "colab_type": "code",
    "id": "1cKxklHGshtR",
    "outputId": "33d9f403-5e83-4a1f-eff4-419481485262"
   },
   "outputs": [],
   "source": [
    "# you can index into it\n",
    "a[0]"
   ]
  },
  {
   "cell_type": "code",
   "execution_count": 4,
   "metadata": {
    "colab": {},
    "colab_type": "code",
    "id": "sQfRtS6-shtT"
   },
   "outputs": [],
   "source": [
    "# what's the 3rd element?\n",
    "a[2]"
   ]
  },
  {
   "cell_type": "code",
   "execution_count": 5,
   "metadata": {
    "colab": {},
    "colab_type": "code",
    "id": "ClikL5eQshtV",
    "outputId": "39d50366-8043-4ce2-c286-1bded8795bc6"
   },
   "outputs": [],
   "source": [
    "# indices can also be negative\n",
    "# this gives you the last element\n",
    "a[-1]"
   ]
  },
  {
   "cell_type": "markdown",
   "metadata": {
    "colab_type": "text",
    "id": "fMCccTbsshtX"
   },
   "source": [
    "## Slicing"
   ]
  },
  {
   "cell_type": "code",
   "execution_count": 6,
   "metadata": {
    "colab": {},
    "colab_type": "code",
    "id": "WFvBiKg7shtY",
    "outputId": "5ead5750-dc64-4d82-bd38-70a7f8859af4"
   },
   "outputs": [],
   "source": [
    "# you can also get subsets of the list with slicing\n",
    "#     a[start:end]\n",
    "# [start, end)\n",
    "\n",
    "# this returns the 3rd and 4th entries (indices 2 and 3 -- note we exclude 4!)\n",
    "a[2:4]"
   ]
  },
  {
   "cell_type": "code",
   "execution_count": 7,
   "metadata": {
    "colab": {},
    "colab_type": "code",
    "id": "tfKACcgXshtZ",
    "outputId": "a7f5406e-e4ff-4f2d-9fba-43dbfb55a71a"
   },
   "outputs": [],
   "source": [
    "# if you leave one side blank, it automatically goes all the way\n",
    "# first five:\n",
    "a[:5]"
   ]
  },
  {
   "cell_type": "code",
   "execution_count": 8,
   "metadata": {
    "colab": {},
    "colab_type": "code",
    "id": "3qBisTaHshtc"
   },
   "outputs": [],
   "source": [
    "# how do you get the last three elements?\n",
    "a[-3:]"
   ]
  },
  {
   "cell_type": "code",
   "execution_count": 9,
   "metadata": {
    "colab": {},
    "colab_type": "code",
    "id": "-lcz_-Xtshte",
    "outputId": "84f02a52-146c-45f9-f034-c4e3749c23ad"
   },
   "outputs": [],
   "source": [
    "# slices can also skip numbers\n",
    "# a[start:end:interval]\n",
    "\n",
    "# this gives us every other number, starting with the first\n",
    "a[::2]"
   ]
  },
  {
   "cell_type": "code",
   "execution_count": 10,
   "metadata": {
    "colab": {},
    "colab_type": "code",
    "id": "yWZIXYGkshtg",
    "outputId": "2e9b9bda-57af-4277-a31a-d4bf7681b968"
   },
   "outputs": [],
   "source": [
    "# the interval can also be negative\n",
    "# what does that do?\n",
    "\n",
    "a[::-2]"
   ]
  },
  {
   "cell_type": "markdown",
   "metadata": {
    "colab_type": "text",
    "id": "c_y0XSNJshti"
   },
   "source": [
    "# Numpy"
   ]
  },
  {
   "cell_type": "code",
   "execution_count": 11,
   "metadata": {
    "colab": {},
    "colab_type": "code",
    "id": "bhzKzmxEshti"
   },
   "outputs": [],
   "source": [
    "import numpy as np"
   ]
  },
  {
   "cell_type": "markdown",
   "metadata": {
    "colab_type": "text",
    "id": "H28knoaeshtk"
   },
   "source": [
    "## Creating"
   ]
  },
  {
   "cell_type": "code",
   "execution_count": 12,
   "metadata": {
    "colab": {},
    "colab_type": "code",
    "id": "bxenjHiVshtl",
    "outputId": "466c52fb-1ccd-4700-b38d-db84fcf2debe"
   },
   "outputs": [
    {
     "data": {
      "text/plain": [
       "array([4.2000e+01, 7.0000e+00, 1.3000e+01, 2.4601e+04, 2.0010e+03,\n",
       "       3.5000e+00])"
      ]
     },
     "execution_count": 12,
     "metadata": {},
     "output_type": "execute_result"
    }
   ],
   "source": [
    "# numpy arrays can be created from a python list\n",
    "b = np.array(a)\n",
    "b"
   ]
  },
  {
   "cell_type": "markdown",
   "metadata": {
    "colab_type": "text",
    "id": "JEpNmBNBshtn"
   },
   "source": [
    "Right now, it looks an awful like a python list, but there are some key points you should know.\n",
    "\n",
    "numpy arrays are:\n",
    "- homogeneous (all elements in an array have the same type)\n",
    "- multidimensional"
   ]
  },
  {
   "cell_type": "code",
   "execution_count": 13,
   "metadata": {
    "colab": {},
    "colab_type": "code",
    "id": "SHuivX63shtn",
    "outputId": "68ababa8-1e8c-472d-b261-ba7430657eab"
   },
   "outputs": [
    {
     "data": {
      "text/plain": [
       "dtype('float64')"
      ]
     },
     "execution_count": 13,
     "metadata": {},
     "output_type": "execute_result"
    }
   ],
   "source": [
    "# Homogeneous: all numpy arrays have an associated data type.\n",
    "# numbers are usually ints or floats\n",
    "b.dtype"
   ]
  },
  {
   "cell_type": "code",
   "execution_count": 14,
   "metadata": {
    "colab": {},
    "colab_type": "code",
    "id": "fpW_SbqKshtp",
    "outputId": "8c0ef591-a144-47cb-8250-55e6327b3ba1"
   },
   "outputs": [
    {
     "data": {
      "text/plain": [
       "array([[4.2000e+01, 7.0000e+00],\n",
       "       [1.3000e+01, 2.4601e+04],\n",
       "       [2.0010e+03, 3.5000e+00]])"
      ]
     },
     "execution_count": 14,
     "metadata": {},
     "output_type": "execute_result"
    }
   ],
   "source": [
    "# Multidimensional: numpy arrays can have multiple dimensions, like a nested list.\n",
    "# We can reshape b into a 3x2 matrix\n",
    "# Note: this doesn't change b. That's why we assign it to a new variable: m\n",
    "m = b.reshape(3, 2)\n",
    "m"
   ]
  },
  {
   "cell_type": "code",
   "execution_count": 15,
   "metadata": {
    "colab": {},
    "colab_type": "code",
    "id": "Bu9Tt2lyshtr",
    "outputId": "9012814b-9c85-49a2-e7c0-5200e94384e0"
   },
   "outputs": [
    {
     "data": {
      "text/plain": [
       "(3, 2)"
      ]
     },
     "execution_count": 15,
     "metadata": {},
     "output_type": "execute_result"
    }
   ],
   "source": [
    "# Each dimension is called an axis\n",
    "# The size across each axis is called the shape\n",
    "# These are two very important concepts!\n",
    "m.shape"
   ]
  },
  {
   "cell_type": "markdown",
   "metadata": {
    "colab_type": "text",
    "id": "_Y2ICRLmshts"
   },
   "source": [
    "## Indexing"
   ]
  },
  {
   "cell_type": "code",
   "execution_count": 16,
   "metadata": {
    "colab": {},
    "colab_type": "code",
    "id": "mo8U17u2shtt",
    "outputId": "0bd7bc23-d033-42f1-a561-852feb752232"
   },
   "outputs": [
    {
     "data": {
      "text/plain": [
       "42.0"
      ]
     },
     "execution_count": 16,
     "metadata": {},
     "output_type": "execute_result"
    }
   ],
   "source": [
    "# We index into numpy arrays much the same way as python lists.\n",
    "b[0]"
   ]
  },
  {
   "cell_type": "code",
   "execution_count": 17,
   "metadata": {
    "colab": {},
    "colab_type": "code",
    "id": "JWVOyLOWshty",
    "outputId": "d44bd800-aef1-4d87-9309-d0840b41df23"
   },
   "outputs": [
    {
     "data": {
      "text/plain": [
       "7.0"
      ]
     },
     "execution_count": 17,
     "metadata": {},
     "output_type": "execute_result"
    }
   ],
   "source": [
    "# But N-dimensional arrays mean we can be more expressive with indexing\n",
    "# This gives us [0th index of axis 0, 1st index of axis 1]\n",
    "# You can think of this as a grid\n",
    "# Alternatively, this is like m[0][1]\n",
    "m[0, 1]"
   ]
  },
  {
   "cell_type": "code",
   "execution_count": 18,
   "metadata": {
    "colab": {},
    "colab_type": "code",
    "id": "mUKMKmtGsht0",
    "outputId": "df591ae7-c8c7-4d71-dce1-2b2fa9d54677"
   },
   "outputs": [
    {
     "data": {
      "text/plain": [
       "array([  42.,    7., 2001.])"
      ]
     },
     "execution_count": 18,
     "metadata": {},
     "output_type": "execute_result"
    }
   ],
   "source": [
    "# We can also pass in multiple indices as a list\n",
    "# This gives us the 1st, 2nd, and 5th values of b\n",
    "b[[0, 1, 4]]"
   ]
  },
  {
   "cell_type": "code",
   "execution_count": 19,
   "metadata": {
    "colab": {},
    "colab_type": "code",
    "id": "Ogi93z6Hsht3"
   },
   "outputs": [
    {
     "data": {
      "text/plain": [
       "array([2.4601e+04, 3.5000e+00])"
      ]
     },
     "execution_count": 19,
     "metadata": {},
     "output_type": "execute_result"
    }
   ],
   "source": [
    "# Let's combine these two facts to get the 2nd and 3rd items in the second column of m\n",
    "m[[1, 2],1]"
   ]
  },
  {
   "cell_type": "code",
   "execution_count": 20,
   "metadata": {
    "colab": {},
    "colab_type": "code",
    "id": "763H6u9isht5",
    "outputId": "94607724-d1b5-4928-a8a8-dde4f73c4e66"
   },
   "outputs": [
    {
     "data": {
      "text/plain": [
       "array([7.0000e+00, 2.4601e+04, 3.5000e+00])"
      ]
     },
     "execution_count": 20,
     "metadata": {},
     "output_type": "execute_result"
    }
   ],
   "source": [
    "# We can also incorporate our previous knowledge of slices.\n",
    "# So to get the second column\n",
    "# This gives us the entire range on axis 0, and only the 1st index on axis 1\n",
    "m[:,1]"
   ]
  },
  {
   "cell_type": "markdown",
   "metadata": {
    "colab_type": "text",
    "id": "WfYP11qxsht7"
   },
   "source": [
    "## Math"
   ]
  },
  {
   "cell_type": "code",
   "execution_count": 21,
   "metadata": {
    "colab": {},
    "colab_type": "code",
    "id": "ajGfySfqsht8",
    "outputId": "b2310f92-61a0-440a-a094-03746b42b264"
   },
   "outputs": [
    {
     "data": {
      "text/plain": [
       "26667.5"
      ]
     },
     "execution_count": 21,
     "metadata": {},
     "output_type": "execute_result"
    }
   ],
   "source": [
    "# numpy gives us a lot of math functions to work with\n",
    "# I'll only show you a couple, but you can find them all in the documentation\n",
    "\n",
    "np.sum(b)  # guess what this does?"
   ]
  },
  {
   "cell_type": "code",
   "execution_count": 22,
   "metadata": {
    "colab": {},
    "colab_type": "code",
    "id": "2HHhw_UIsht9",
    "outputId": "6436bc30-46fb-4ef3-a41c-d838b68327e8"
   },
   "outputs": [
    {
     "data": {
      "text/plain": [
       "4444.583333333333"
      ]
     },
     "execution_count": 22,
     "metadata": {},
     "output_type": "execute_result"
    }
   ],
   "source": [
    "np.mean(b)  # and this?"
   ]
  },
  {
   "cell_type": "code",
   "execution_count": 23,
   "metadata": {
    "colab": {},
    "colab_type": "code",
    "id": "OhwKmXtWsht_",
    "outputId": "27ba3abb-b252-4ff0-8248-bd4ee05ee9b2"
   },
   "outputs": [
    {
     "data": {
      "text/plain": [
       "4444.583333333333"
      ]
     },
     "execution_count": 23,
     "metadata": {},
     "output_type": "execute_result"
    }
   ],
   "source": [
    "# for convenience, you can also call\n",
    "b.mean()"
   ]
  },
  {
   "cell_type": "code",
   "execution_count": 24,
   "metadata": {
    "colab": {},
    "colab_type": "code",
    "id": "cEncBjsYshuA",
    "outputId": "dcc65f03-b849-40a2-e8b1-a6972f00d9f3"
   },
   "outputs": [
    {
     "data": {
      "text/plain": [
       "array([   49. , 24614. ,  2004.5])"
      ]
     },
     "execution_count": 24,
     "metadata": {},
     "output_type": "execute_result"
    }
   ],
   "source": [
    "# you can also apply these functions to only one axis\n",
    "# only sum across rows (read: apply the sum to axis 1)\n",
    "np.sum(m, axis=1)"
   ]
  },
  {
   "cell_type": "code",
   "execution_count": 25,
   "metadata": {
    "colab": {},
    "colab_type": "code",
    "id": "YY_4imjPshuC",
    "outputId": "2376d039-8ab9-4c40-c143-fe61871fc774"
   },
   "outputs": [
    {
     "data": {
      "text/plain": [
       "array([[8.4000e+01, 1.4000e+01],\n",
       "       [2.6000e+01, 4.9202e+04],\n",
       "       [4.0020e+03, 7.0000e+00]])"
      ]
     },
     "execution_count": 25,
     "metadata": {},
     "output_type": "execute_result"
    }
   ],
   "source": [
    "# numpy has a concept called podcasting\n",
    "# It tries to coerce non-matching shapes.\n",
    "# 2 is a scalar, but we can still multiply m by it\n",
    "# it just repeats the 2 across all instances of m\n",
    "m * 2"
   ]
  },
  {
   "cell_type": "markdown",
   "metadata": {
    "colab_type": "text",
    "id": "hPNc76NFshuE"
   },
   "source": [
    "# Pandas"
   ]
  },
  {
   "cell_type": "code",
   "execution_count": 26,
   "metadata": {
    "colab": {},
    "colab_type": "code",
    "id": "kFReInatshuE"
   },
   "outputs": [],
   "source": [
    "import pandas as pd"
   ]
  },
  {
   "cell_type": "markdown",
   "metadata": {
    "colab_type": "text",
    "id": "rwfjdq2kshuF"
   },
   "source": [
    "## Creating\n",
    "\n",
    "Pandas lets us read all sorts of data into a Dataframe. Think of this as a series of lists. Let's look at an example."
   ]
  },
  {
   "cell_type": "code",
   "execution_count": 27,
   "metadata": {
    "colab": {},
    "colab_type": "code",
    "id": "oQmdbMiOshuG",
    "outputId": "78472e48-5b83-4782-afa8-44d55cb2c7a3"
   },
   "outputs": [
    {
     "data": {
      "text/plain": [
       "pandas.core.frame.DataFrame"
      ]
     },
     "execution_count": 27,
     "metadata": {},
     "output_type": "execute_result"
    }
   ],
   "source": [
    "df = pd.read_csv(\"./cereal.csv\")\n",
    "type(df)"
   ]
  },
  {
   "cell_type": "code",
   "execution_count": 28,
   "metadata": {
    "colab": {},
    "colab_type": "code",
    "id": "wdxDQCS1shuI",
    "outputId": "3e23bce9-2878-41fd-ab52-5cbc08ec92e4"
   },
   "outputs": [
    {
     "data": {
      "text/html": [
       "<div>\n",
       "<style scoped>\n",
       "    .dataframe tbody tr th:only-of-type {\n",
       "        vertical-align: middle;\n",
       "    }\n",
       "\n",
       "    .dataframe tbody tr th {\n",
       "        vertical-align: top;\n",
       "    }\n",
       "\n",
       "    .dataframe thead th {\n",
       "        text-align: right;\n",
       "    }\n",
       "</style>\n",
       "<table border=\"1\" class=\"dataframe\">\n",
       "  <thead>\n",
       "    <tr style=\"text-align: right;\">\n",
       "      <th></th>\n",
       "      <th>name</th>\n",
       "      <th>mfr</th>\n",
       "      <th>type</th>\n",
       "      <th>calories</th>\n",
       "      <th>protein</th>\n",
       "      <th>fat</th>\n",
       "      <th>sodium</th>\n",
       "      <th>fiber</th>\n",
       "      <th>carbo</th>\n",
       "      <th>sugars</th>\n",
       "      <th>potass</th>\n",
       "      <th>vitamins</th>\n",
       "      <th>shelf</th>\n",
       "      <th>weight</th>\n",
       "      <th>cups</th>\n",
       "      <th>rating</th>\n",
       "    </tr>\n",
       "  </thead>\n",
       "  <tbody>\n",
       "    <tr>\n",
       "      <th>0</th>\n",
       "      <td>100% Bran</td>\n",
       "      <td>N</td>\n",
       "      <td>C</td>\n",
       "      <td>70</td>\n",
       "      <td>4</td>\n",
       "      <td>1</td>\n",
       "      <td>130</td>\n",
       "      <td>10.0</td>\n",
       "      <td>5.0</td>\n",
       "      <td>6</td>\n",
       "      <td>280</td>\n",
       "      <td>25</td>\n",
       "      <td>3</td>\n",
       "      <td>1.0</td>\n",
       "      <td>0.33</td>\n",
       "      <td>68.402973</td>\n",
       "    </tr>\n",
       "    <tr>\n",
       "      <th>1</th>\n",
       "      <td>100% Natural Bran</td>\n",
       "      <td>Q</td>\n",
       "      <td>C</td>\n",
       "      <td>120</td>\n",
       "      <td>3</td>\n",
       "      <td>5</td>\n",
       "      <td>15</td>\n",
       "      <td>2.0</td>\n",
       "      <td>8.0</td>\n",
       "      <td>8</td>\n",
       "      <td>135</td>\n",
       "      <td>0</td>\n",
       "      <td>3</td>\n",
       "      <td>1.0</td>\n",
       "      <td>1.00</td>\n",
       "      <td>33.983679</td>\n",
       "    </tr>\n",
       "    <tr>\n",
       "      <th>2</th>\n",
       "      <td>All-Bran</td>\n",
       "      <td>K</td>\n",
       "      <td>C</td>\n",
       "      <td>70</td>\n",
       "      <td>4</td>\n",
       "      <td>1</td>\n",
       "      <td>260</td>\n",
       "      <td>9.0</td>\n",
       "      <td>7.0</td>\n",
       "      <td>5</td>\n",
       "      <td>320</td>\n",
       "      <td>25</td>\n",
       "      <td>3</td>\n",
       "      <td>1.0</td>\n",
       "      <td>0.33</td>\n",
       "      <td>59.425505</td>\n",
       "    </tr>\n",
       "    <tr>\n",
       "      <th>3</th>\n",
       "      <td>All-Bran with Extra Fiber</td>\n",
       "      <td>K</td>\n",
       "      <td>C</td>\n",
       "      <td>50</td>\n",
       "      <td>4</td>\n",
       "      <td>0</td>\n",
       "      <td>140</td>\n",
       "      <td>14.0</td>\n",
       "      <td>8.0</td>\n",
       "      <td>0</td>\n",
       "      <td>330</td>\n",
       "      <td>25</td>\n",
       "      <td>3</td>\n",
       "      <td>1.0</td>\n",
       "      <td>0.50</td>\n",
       "      <td>93.704912</td>\n",
       "    </tr>\n",
       "    <tr>\n",
       "      <th>4</th>\n",
       "      <td>Almond Delight</td>\n",
       "      <td>R</td>\n",
       "      <td>C</td>\n",
       "      <td>110</td>\n",
       "      <td>2</td>\n",
       "      <td>2</td>\n",
       "      <td>200</td>\n",
       "      <td>1.0</td>\n",
       "      <td>14.0</td>\n",
       "      <td>8</td>\n",
       "      <td>-1</td>\n",
       "      <td>25</td>\n",
       "      <td>3</td>\n",
       "      <td>1.0</td>\n",
       "      <td>0.75</td>\n",
       "      <td>34.384843</td>\n",
       "    </tr>\n",
       "  </tbody>\n",
       "</table>\n",
       "</div>"
      ],
      "text/plain": [
       "                        name mfr type  calories  protein  fat  sodium  fiber  \\\n",
       "0                  100% Bran   N    C        70        4    1     130   10.0   \n",
       "1          100% Natural Bran   Q    C       120        3    5      15    2.0   \n",
       "2                   All-Bran   K    C        70        4    1     260    9.0   \n",
       "3  All-Bran with Extra Fiber   K    C        50        4    0     140   14.0   \n",
       "4             Almond Delight   R    C       110        2    2     200    1.0   \n",
       "\n",
       "   carbo  sugars  potass  vitamins  shelf  weight  cups     rating  \n",
       "0    5.0       6     280        25      3     1.0  0.33  68.402973  \n",
       "1    8.0       8     135         0      3     1.0  1.00  33.983679  \n",
       "2    7.0       5     320        25      3     1.0  0.33  59.425505  \n",
       "3    8.0       0     330        25      3     1.0  0.50  93.704912  \n",
       "4   14.0       8      -1        25      3     1.0  0.75  34.384843  "
      ]
     },
     "execution_count": 28,
     "metadata": {},
     "output_type": "execute_result"
    }
   ],
   "source": [
    "# head() gives us the first 10 rows in the dataframe (pd.DataFrame)\n",
    "df.head()"
   ]
  },
  {
   "cell_type": "code",
   "execution_count": 29,
   "metadata": {
    "colab": {},
    "colab_type": "code",
    "id": "D0RkFFaVshuK",
    "outputId": "b3171c55-9c56-4c09-dbbf-2f96d4fb5d7f"
   },
   "outputs": [
    {
     "data": {
      "text/plain": [
       "0                     100% Bran\n",
       "1             100% Natural Bran\n",
       "2                      All-Bran\n",
       "3     All-Bran with Extra Fiber\n",
       "4                Almond Delight\n",
       "                ...            \n",
       "72                      Triples\n",
       "73                         Trix\n",
       "74                   Wheat Chex\n",
       "75                     Wheaties\n",
       "76          Wheaties Honey Gold\n",
       "Name: name, Length: 77, dtype: object"
      ]
     },
     "execution_count": 29,
     "metadata": {},
     "output_type": "execute_result"
    }
   ],
   "source": [
    "# you can think of each column as a list (or a 1D numpy array)\n",
    "# in practice, these are called pandas Series (pd.Series)\n",
    "# you can index into the dataframe with a string to get one column\n",
    "df[\"name\"]"
   ]
  },
  {
   "cell_type": "code",
   "execution_count": 30,
   "metadata": {
    "colab": {},
    "colab_type": "code",
    "id": "Ad0zvg5_shuL",
    "outputId": "21990521-c1aa-484d-d276-4842a6b5008d"
   },
   "outputs": [
    {
     "data": {
      "text/plain": [
       "pandas.core.series.Series"
      ]
     },
     "execution_count": 30,
     "metadata": {},
     "output_type": "execute_result"
    }
   ],
   "source": [
    "type(df[\"name\"])"
   ]
  },
  {
   "cell_type": "markdown",
   "metadata": {
    "colab_type": "text",
    "id": "zY92_S-2shuN"
   },
   "source": [
    "## Pandas Series vs Numpy Arrays"
   ]
  },
  {
   "cell_type": "code",
   "execution_count": 31,
   "metadata": {
    "colab": {},
    "colab_type": "code",
    "id": "8NIKtwCcshuN",
    "outputId": "67671dbe-a63f-49c0-e08a-cc39b37fd1b7"
   },
   "outputs": [
    {
     "data": {
      "text/plain": [
       "14.597402597402597"
      ]
     },
     "execution_count": 31,
     "metadata": {},
     "output_type": "execute_result"
    }
   ],
   "source": [
    "# There are many similarities between pd.Series and np.ndarray\n",
    "# for example:\n",
    "df[\"carbo\"].mean()"
   ]
  },
  {
   "cell_type": "code",
   "execution_count": 32,
   "metadata": {
    "colab": {},
    "colab_type": "code",
    "id": "JLBrbZ6PshuP",
    "outputId": "eae983de-f8f6-4abe-f7fb-4662b452639e"
   },
   "outputs": [
    {
     "data": {
      "text/plain": [
       "array([ 5. ,  8. ,  7. ,  8. , 14. , 10.5, 11. , 18. , 15. , 13. , 12. ,\n",
       "       17. , 13. , 13. , 12. , 22. , 21. , 13. , 12. , 10. , 21. , 21. ,\n",
       "       11. , 18. , 11. , 14. , 14. , 12. , 14. , 13. , 11. , 15. , 15. ,\n",
       "       17. , 13. , 12. , 11.5, 14. , 17. , 20. , 21. , 12. , 12. , 16. ,\n",
       "       16. , 16. , 17. , 15. , 15. , 21. , 18. , 13.5, 11. , 20. , 13. ,\n",
       "       10. , 14. , -1. , 14. , 10.5, 15. , 23. , 22. , 16. , 19. , 20. ,\n",
       "        9. , 16. , 15. , 21. , 15. , 16. , 21. , 13. , 17. , 17. , 16. ])"
      ]
     },
     "execution_count": 32,
     "metadata": {},
     "output_type": "execute_result"
    }
   ],
   "source": [
    "# In fact, we can turn pd.Series into a numpy array\n",
    "# again, this returns a numpy array -- df[\"carbo\"] doesn't change.\n",
    "df[\"carbo\"].to_numpy()"
   ]
  },
  {
   "cell_type": "code",
   "execution_count": 33,
   "metadata": {
    "colab": {},
    "colab_type": "code",
    "id": "D7eM04rsshuQ",
    "outputId": "a678bf39-8b26-4a60-a555-5e96c0c87970"
   },
   "outputs": [
    {
     "data": {
      "text/plain": [
       "RangeIndex(start=0, stop=77, step=1)"
      ]
     },
     "execution_count": 33,
     "metadata": {},
     "output_type": "execute_result"
    }
   ],
   "source": [
    "# The key difference is that Series are indexed\n",
    "# See the 0, 1, ... 76 on the left? That is the index of each item.\n",
    "# Right now they are just positions, but theoretically they can be any unique identifier for the row\n",
    "# Think: ID, username, etc\n",
    "df[\"carbo\"].index"
   ]
  },
  {
   "cell_type": "markdown",
   "metadata": {
    "colab_type": "text",
    "id": "JbP-0t5WshuS"
   },
   "source": [
    "## Indexing into DataFrames and Series"
   ]
  },
  {
   "cell_type": "code",
   "execution_count": 34,
   "metadata": {
    "colab": {},
    "colab_type": "code",
    "id": "-vcZulmRshuT",
    "outputId": "76023821-8263-4b20-b148-ea7f78fae862"
   },
   "outputs": [
    {
     "data": {
      "text/plain": [
       "name        100% Bran\n",
       "mfr                 N\n",
       "type                C\n",
       "calories           70\n",
       "protein             4\n",
       "fat                 1\n",
       "sodium            130\n",
       "fiber              10\n",
       "carbo               5\n",
       "sugars              6\n",
       "potass            280\n",
       "vitamins           25\n",
       "shelf               3\n",
       "weight              1\n",
       "cups             0.33\n",
       "rating         68.403\n",
       "Name: 0, dtype: object"
      ]
     },
     "execution_count": 34,
     "metadata": {},
     "output_type": "execute_result"
    }
   ],
   "source": [
    "# Indexing is a little bit different in pandas.\n",
    "# One parallel to what you've been used to is .loc[]\n",
    "# this is the row at index 0\n",
    "df.loc[0]"
   ]
  },
  {
   "cell_type": "code",
   "execution_count": 35,
   "metadata": {
    "colab": {},
    "colab_type": "code",
    "id": "BukLcPbEshuV",
    "outputId": "fc3e3eba-aa52-47d1-fdd9-0390f6b197ea",
    "scrolled": true
   },
   "outputs": [
    {
     "data": {
      "text/html": [
       "<div>\n",
       "<style scoped>\n",
       "    .dataframe tbody tr th:only-of-type {\n",
       "        vertical-align: middle;\n",
       "    }\n",
       "\n",
       "    .dataframe tbody tr th {\n",
       "        vertical-align: top;\n",
       "    }\n",
       "\n",
       "    .dataframe thead th {\n",
       "        text-align: right;\n",
       "    }\n",
       "</style>\n",
       "<table border=\"1\" class=\"dataframe\">\n",
       "  <thead>\n",
       "    <tr style=\"text-align: right;\">\n",
       "      <th></th>\n",
       "      <th>name</th>\n",
       "      <th>mfr</th>\n",
       "      <th>type</th>\n",
       "      <th>calories</th>\n",
       "      <th>protein</th>\n",
       "      <th>fat</th>\n",
       "      <th>sodium</th>\n",
       "      <th>fiber</th>\n",
       "      <th>carbo</th>\n",
       "      <th>sugars</th>\n",
       "      <th>potass</th>\n",
       "      <th>vitamins</th>\n",
       "      <th>shelf</th>\n",
       "      <th>weight</th>\n",
       "      <th>cups</th>\n",
       "      <th>rating</th>\n",
       "    </tr>\n",
       "  </thead>\n",
       "  <tbody>\n",
       "    <tr>\n",
       "      <th>1</th>\n",
       "      <td>100% Natural Bran</td>\n",
       "      <td>Q</td>\n",
       "      <td>C</td>\n",
       "      <td>120</td>\n",
       "      <td>3</td>\n",
       "      <td>5</td>\n",
       "      <td>15</td>\n",
       "      <td>2.0</td>\n",
       "      <td>8.0</td>\n",
       "      <td>8</td>\n",
       "      <td>135</td>\n",
       "      <td>0</td>\n",
       "      <td>3</td>\n",
       "      <td>1.0</td>\n",
       "      <td>1.00</td>\n",
       "      <td>33.983679</td>\n",
       "    </tr>\n",
       "    <tr>\n",
       "      <th>2</th>\n",
       "      <td>All-Bran</td>\n",
       "      <td>K</td>\n",
       "      <td>C</td>\n",
       "      <td>70</td>\n",
       "      <td>4</td>\n",
       "      <td>1</td>\n",
       "      <td>260</td>\n",
       "      <td>9.0</td>\n",
       "      <td>7.0</td>\n",
       "      <td>5</td>\n",
       "      <td>320</td>\n",
       "      <td>25</td>\n",
       "      <td>3</td>\n",
       "      <td>1.0</td>\n",
       "      <td>0.33</td>\n",
       "      <td>59.425505</td>\n",
       "    </tr>\n",
       "    <tr>\n",
       "      <th>3</th>\n",
       "      <td>All-Bran with Extra Fiber</td>\n",
       "      <td>K</td>\n",
       "      <td>C</td>\n",
       "      <td>50</td>\n",
       "      <td>4</td>\n",
       "      <td>0</td>\n",
       "      <td>140</td>\n",
       "      <td>14.0</td>\n",
       "      <td>8.0</td>\n",
       "      <td>0</td>\n",
       "      <td>330</td>\n",
       "      <td>25</td>\n",
       "      <td>3</td>\n",
       "      <td>1.0</td>\n",
       "      <td>0.50</td>\n",
       "      <td>93.704912</td>\n",
       "    </tr>\n",
       "  </tbody>\n",
       "</table>\n",
       "</div>"
      ],
      "text/plain": [
       "                        name mfr type  calories  protein  fat  sodium  fiber  \\\n",
       "1          100% Natural Bran   Q    C       120        3    5      15    2.0   \n",
       "2                   All-Bran   K    C        70        4    1     260    9.0   \n",
       "3  All-Bran with Extra Fiber   K    C        50        4    0     140   14.0   \n",
       "\n",
       "   carbo  sugars  potass  vitamins  shelf  weight  cups     rating  \n",
       "1    8.0       8     135         0      3     1.0  1.00  33.983679  \n",
       "2    7.0       5     320        25      3     1.0  0.33  59.425505  \n",
       "3    8.0       0     330        25      3     1.0  0.50  93.704912  "
      ]
     },
     "execution_count": 35,
     "metadata": {},
     "output_type": "execute_result"
    }
   ],
   "source": [
    "# multiple indices work\n",
    "df.loc[[1, 2, 3]]"
   ]
  },
  {
   "cell_type": "code",
   "execution_count": 36,
   "metadata": {
    "colab": {},
    "colab_type": "code",
    "id": "wBn0qrVLshuW",
    "outputId": "f3b0d465-c2fe-42ee-ea44-f91185ac67f2"
   },
   "outputs": [
    {
     "data": {
      "text/plain": [
       "name        100% Bran\n",
       "mfr                 N\n",
       "type                C\n",
       "calories           70\n",
       "protein             4\n",
       "fat                 1\n",
       "sodium            130\n",
       "fiber              10\n",
       "carbo               5\n",
       "sugars              6\n",
       "potass            280\n",
       "vitamins           25\n",
       "shelf               3\n",
       "weight              1\n",
       "cups             0.33\n",
       "rating         68.403\n",
       "Name: 0, dtype: object"
      ]
     },
     "execution_count": 36,
     "metadata": {},
     "output_type": "execute_result"
    }
   ],
   "source": [
    "# caveat: remember that pandas doesn't require zero-indexing. indices can be anything.\n",
    "# this means slicing might not work all the time (what would df.loc[\"asdf\":\"hjkl\"] even mean?)\n",
    "# in the cases that you actually want to index by row number, you can always do that with .iloc[]\n",
    "# again, this will behave the same as .loc[] with our dataset because our data is 0-indexed\n",
    "df.iloc[0]"
   ]
  },
  {
   "cell_type": "code",
   "execution_count": 37,
   "metadata": {
    "colab": {},
    "colab_type": "code",
    "id": "aD8D-qYlshuY",
    "outputId": "ff48c14d-f823-46d5-ff9c-bcccf83ca6c0"
   },
   "outputs": [
    {
     "data": {
      "text/html": [
       "<div>\n",
       "<style scoped>\n",
       "    .dataframe tbody tr th:only-of-type {\n",
       "        vertical-align: middle;\n",
       "    }\n",
       "\n",
       "    .dataframe tbody tr th {\n",
       "        vertical-align: top;\n",
       "    }\n",
       "\n",
       "    .dataframe thead th {\n",
       "        text-align: right;\n",
       "    }\n",
       "</style>\n",
       "<table border=\"1\" class=\"dataframe\">\n",
       "  <thead>\n",
       "    <tr style=\"text-align: right;\">\n",
       "      <th></th>\n",
       "      <th>name</th>\n",
       "      <th>mfr</th>\n",
       "      <th>type</th>\n",
       "      <th>calories</th>\n",
       "      <th>protein</th>\n",
       "      <th>fat</th>\n",
       "      <th>sodium</th>\n",
       "      <th>fiber</th>\n",
       "      <th>carbo</th>\n",
       "      <th>sugars</th>\n",
       "      <th>potass</th>\n",
       "      <th>vitamins</th>\n",
       "      <th>shelf</th>\n",
       "      <th>weight</th>\n",
       "      <th>cups</th>\n",
       "      <th>rating</th>\n",
       "    </tr>\n",
       "  </thead>\n",
       "  <tbody>\n",
       "    <tr>\n",
       "      <th>0</th>\n",
       "      <td>100% Bran</td>\n",
       "      <td>N</td>\n",
       "      <td>C</td>\n",
       "      <td>70</td>\n",
       "      <td>4</td>\n",
       "      <td>1</td>\n",
       "      <td>130</td>\n",
       "      <td>10.0</td>\n",
       "      <td>5.0</td>\n",
       "      <td>6</td>\n",
       "      <td>280</td>\n",
       "      <td>25</td>\n",
       "      <td>3</td>\n",
       "      <td>1.0</td>\n",
       "      <td>0.33</td>\n",
       "      <td>68.402973</td>\n",
       "    </tr>\n",
       "  </tbody>\n",
       "</table>\n",
       "</div>"
      ],
      "text/plain": [
       "        name mfr type  calories  protein  fat  sodium  fiber  carbo  sugars  \\\n",
       "0  100% Bran   N    C        70        4    1     130   10.0    5.0       6   \n",
       "\n",
       "   potass  vitamins  shelf  weight  cups     rating  \n",
       "0     280        25      3     1.0  0.33  68.402973  "
      ]
     },
     "execution_count": 37,
     "metadata": {},
     "output_type": "execute_result"
    }
   ],
   "source": [
    "# We can also use boolean indexing by passing a list of booleans like so:\n",
    "df[[True] + [False] * 76]\n",
    "# Let me explain:\n",
    "# - [True] + [False] * 76 gives us a list that looks like [True, False, ..., False] with 1 True and 76 Falses\n",
    "# - This matches the number of rows in our data (77)\n",
    "# - pandas returns all the rows with a corresponding True (in this case, only the first one)"
   ]
  },
  {
   "cell_type": "code",
   "execution_count": 38,
   "metadata": {
    "colab": {},
    "colab_type": "code",
    "id": "tXPOkpnvshuZ",
    "outputId": "aacff45e-4026-4f1c-9aa8-e011a728c1e3"
   },
   "outputs": [
    {
     "data": {
      "text/plain": [
       "0      True\n",
       "1     False\n",
       "2      True\n",
       "3      True\n",
       "4     False\n",
       "      ...  \n",
       "72    False\n",
       "73    False\n",
       "74    False\n",
       "75    False\n",
       "76    False\n",
       "Name: protein, Length: 77, dtype: bool"
      ]
     },
     "execution_count": 38,
     "metadata": {},
     "output_type": "execute_result"
    }
   ],
   "source": [
    "# This is powerful because we can also make comparisons with Series and values.\n",
    "df[\"protein\"] > 3"
   ]
  },
  {
   "cell_type": "code",
   "execution_count": 39,
   "metadata": {
    "colab": {},
    "colab_type": "code",
    "id": "AuoAkjxqshub",
    "outputId": "28b5ac2d-f3ad-4cde-d983-8c9137332517"
   },
   "outputs": [
    {
     "data": {
      "text/html": [
       "<div>\n",
       "<style scoped>\n",
       "    .dataframe tbody tr th:only-of-type {\n",
       "        vertical-align: middle;\n",
       "    }\n",
       "\n",
       "    .dataframe tbody tr th {\n",
       "        vertical-align: top;\n",
       "    }\n",
       "\n",
       "    .dataframe thead th {\n",
       "        text-align: right;\n",
       "    }\n",
       "</style>\n",
       "<table border=\"1\" class=\"dataframe\">\n",
       "  <thead>\n",
       "    <tr style=\"text-align: right;\">\n",
       "      <th></th>\n",
       "      <th>name</th>\n",
       "      <th>mfr</th>\n",
       "      <th>type</th>\n",
       "      <th>calories</th>\n",
       "      <th>protein</th>\n",
       "      <th>fat</th>\n",
       "      <th>sodium</th>\n",
       "      <th>fiber</th>\n",
       "      <th>carbo</th>\n",
       "      <th>sugars</th>\n",
       "      <th>potass</th>\n",
       "      <th>vitamins</th>\n",
       "      <th>shelf</th>\n",
       "      <th>weight</th>\n",
       "      <th>cups</th>\n",
       "      <th>rating</th>\n",
       "    </tr>\n",
       "  </thead>\n",
       "  <tbody>\n",
       "    <tr>\n",
       "      <th>0</th>\n",
       "      <td>100% Bran</td>\n",
       "      <td>N</td>\n",
       "      <td>C</td>\n",
       "      <td>70</td>\n",
       "      <td>4</td>\n",
       "      <td>1</td>\n",
       "      <td>130</td>\n",
       "      <td>10.0</td>\n",
       "      <td>5.0</td>\n",
       "      <td>6</td>\n",
       "      <td>280</td>\n",
       "      <td>25</td>\n",
       "      <td>3</td>\n",
       "      <td>1.0</td>\n",
       "      <td>0.33</td>\n",
       "      <td>68.402973</td>\n",
       "    </tr>\n",
       "    <tr>\n",
       "      <th>2</th>\n",
       "      <td>All-Bran</td>\n",
       "      <td>K</td>\n",
       "      <td>C</td>\n",
       "      <td>70</td>\n",
       "      <td>4</td>\n",
       "      <td>1</td>\n",
       "      <td>260</td>\n",
       "      <td>9.0</td>\n",
       "      <td>7.0</td>\n",
       "      <td>5</td>\n",
       "      <td>320</td>\n",
       "      <td>25</td>\n",
       "      <td>3</td>\n",
       "      <td>1.0</td>\n",
       "      <td>0.33</td>\n",
       "      <td>59.425505</td>\n",
       "    </tr>\n",
       "    <tr>\n",
       "      <th>3</th>\n",
       "      <td>All-Bran with Extra Fiber</td>\n",
       "      <td>K</td>\n",
       "      <td>C</td>\n",
       "      <td>50</td>\n",
       "      <td>4</td>\n",
       "      <td>0</td>\n",
       "      <td>140</td>\n",
       "      <td>14.0</td>\n",
       "      <td>8.0</td>\n",
       "      <td>0</td>\n",
       "      <td>330</td>\n",
       "      <td>25</td>\n",
       "      <td>3</td>\n",
       "      <td>1.0</td>\n",
       "      <td>0.50</td>\n",
       "      <td>93.704912</td>\n",
       "    </tr>\n",
       "    <tr>\n",
       "      <th>11</th>\n",
       "      <td>Cheerios</td>\n",
       "      <td>G</td>\n",
       "      <td>C</td>\n",
       "      <td>110</td>\n",
       "      <td>6</td>\n",
       "      <td>2</td>\n",
       "      <td>290</td>\n",
       "      <td>2.0</td>\n",
       "      <td>17.0</td>\n",
       "      <td>1</td>\n",
       "      <td>105</td>\n",
       "      <td>25</td>\n",
       "      <td>1</td>\n",
       "      <td>1.0</td>\n",
       "      <td>1.25</td>\n",
       "      <td>50.764999</td>\n",
       "    </tr>\n",
       "    <tr>\n",
       "      <th>41</th>\n",
       "      <td>Life</td>\n",
       "      <td>Q</td>\n",
       "      <td>C</td>\n",
       "      <td>100</td>\n",
       "      <td>4</td>\n",
       "      <td>2</td>\n",
       "      <td>150</td>\n",
       "      <td>2.0</td>\n",
       "      <td>12.0</td>\n",
       "      <td>6</td>\n",
       "      <td>95</td>\n",
       "      <td>25</td>\n",
       "      <td>2</td>\n",
       "      <td>1.0</td>\n",
       "      <td>0.67</td>\n",
       "      <td>45.328074</td>\n",
       "    </tr>\n",
       "    <tr>\n",
       "      <th>43</th>\n",
       "      <td>Maypo</td>\n",
       "      <td>A</td>\n",
       "      <td>H</td>\n",
       "      <td>100</td>\n",
       "      <td>4</td>\n",
       "      <td>1</td>\n",
       "      <td>0</td>\n",
       "      <td>0.0</td>\n",
       "      <td>16.0</td>\n",
       "      <td>3</td>\n",
       "      <td>95</td>\n",
       "      <td>25</td>\n",
       "      <td>2</td>\n",
       "      <td>1.0</td>\n",
       "      <td>1.00</td>\n",
       "      <td>54.850917</td>\n",
       "    </tr>\n",
       "    <tr>\n",
       "      <th>44</th>\n",
       "      <td>Muesli Raisins; Dates; &amp; Almonds</td>\n",
       "      <td>R</td>\n",
       "      <td>C</td>\n",
       "      <td>150</td>\n",
       "      <td>4</td>\n",
       "      <td>3</td>\n",
       "      <td>95</td>\n",
       "      <td>3.0</td>\n",
       "      <td>16.0</td>\n",
       "      <td>11</td>\n",
       "      <td>170</td>\n",
       "      <td>25</td>\n",
       "      <td>3</td>\n",
       "      <td>1.0</td>\n",
       "      <td>1.00</td>\n",
       "      <td>37.136863</td>\n",
       "    </tr>\n",
       "    <tr>\n",
       "      <th>45</th>\n",
       "      <td>Muesli Raisins; Peaches; &amp; Pecans</td>\n",
       "      <td>R</td>\n",
       "      <td>C</td>\n",
       "      <td>150</td>\n",
       "      <td>4</td>\n",
       "      <td>3</td>\n",
       "      <td>150</td>\n",
       "      <td>3.0</td>\n",
       "      <td>16.0</td>\n",
       "      <td>11</td>\n",
       "      <td>170</td>\n",
       "      <td>25</td>\n",
       "      <td>3</td>\n",
       "      <td>1.0</td>\n",
       "      <td>1.00</td>\n",
       "      <td>34.139765</td>\n",
       "    </tr>\n",
       "    <tr>\n",
       "      <th>56</th>\n",
       "      <td>Quaker Oat Squares</td>\n",
       "      <td>Q</td>\n",
       "      <td>C</td>\n",
       "      <td>100</td>\n",
       "      <td>4</td>\n",
       "      <td>1</td>\n",
       "      <td>135</td>\n",
       "      <td>2.0</td>\n",
       "      <td>14.0</td>\n",
       "      <td>6</td>\n",
       "      <td>110</td>\n",
       "      <td>25</td>\n",
       "      <td>3</td>\n",
       "      <td>1.0</td>\n",
       "      <td>0.50</td>\n",
       "      <td>49.511874</td>\n",
       "    </tr>\n",
       "    <tr>\n",
       "      <th>57</th>\n",
       "      <td>Quaker Oatmeal</td>\n",
       "      <td>Q</td>\n",
       "      <td>H</td>\n",
       "      <td>100</td>\n",
       "      <td>5</td>\n",
       "      <td>2</td>\n",
       "      <td>0</td>\n",
       "      <td>2.7</td>\n",
       "      <td>-1.0</td>\n",
       "      <td>-1</td>\n",
       "      <td>110</td>\n",
       "      <td>0</td>\n",
       "      <td>1</td>\n",
       "      <td>1.0</td>\n",
       "      <td>0.67</td>\n",
       "      <td>50.828392</td>\n",
       "    </tr>\n",
       "    <tr>\n",
       "      <th>67</th>\n",
       "      <td>Special K</td>\n",
       "      <td>K</td>\n",
       "      <td>C</td>\n",
       "      <td>110</td>\n",
       "      <td>6</td>\n",
       "      <td>0</td>\n",
       "      <td>230</td>\n",
       "      <td>1.0</td>\n",
       "      <td>16.0</td>\n",
       "      <td>3</td>\n",
       "      <td>55</td>\n",
       "      <td>25</td>\n",
       "      <td>1</td>\n",
       "      <td>1.0</td>\n",
       "      <td>1.00</td>\n",
       "      <td>53.131324</td>\n",
       "    </tr>\n",
       "  </tbody>\n",
       "</table>\n",
       "</div>"
      ],
      "text/plain": [
       "                                 name mfr type  calories  protein  fat  \\\n",
       "0                           100% Bran   N    C        70        4    1   \n",
       "2                            All-Bran   K    C        70        4    1   \n",
       "3           All-Bran with Extra Fiber   K    C        50        4    0   \n",
       "11                           Cheerios   G    C       110        6    2   \n",
       "41                               Life   Q    C       100        4    2   \n",
       "43                              Maypo   A    H       100        4    1   \n",
       "44   Muesli Raisins; Dates; & Almonds   R    C       150        4    3   \n",
       "45  Muesli Raisins; Peaches; & Pecans   R    C       150        4    3   \n",
       "56                 Quaker Oat Squares   Q    C       100        4    1   \n",
       "57                     Quaker Oatmeal   Q    H       100        5    2   \n",
       "67                          Special K   K    C       110        6    0   \n",
       "\n",
       "    sodium  fiber  carbo  sugars  potass  vitamins  shelf  weight  cups  \\\n",
       "0      130   10.0    5.0       6     280        25      3     1.0  0.33   \n",
       "2      260    9.0    7.0       5     320        25      3     1.0  0.33   \n",
       "3      140   14.0    8.0       0     330        25      3     1.0  0.50   \n",
       "11     290    2.0   17.0       1     105        25      1     1.0  1.25   \n",
       "41     150    2.0   12.0       6      95        25      2     1.0  0.67   \n",
       "43       0    0.0   16.0       3      95        25      2     1.0  1.00   \n",
       "44      95    3.0   16.0      11     170        25      3     1.0  1.00   \n",
       "45     150    3.0   16.0      11     170        25      3     1.0  1.00   \n",
       "56     135    2.0   14.0       6     110        25      3     1.0  0.50   \n",
       "57       0    2.7   -1.0      -1     110         0      1     1.0  0.67   \n",
       "67     230    1.0   16.0       3      55        25      1     1.0  1.00   \n",
       "\n",
       "       rating  \n",
       "0   68.402973  \n",
       "2   59.425505  \n",
       "3   93.704912  \n",
       "11  50.764999  \n",
       "41  45.328074  \n",
       "43  54.850917  \n",
       "44  37.136863  \n",
       "45  34.139765  \n",
       "56  49.511874  \n",
       "57  50.828392  \n",
       "67  53.131324  "
      ]
     },
     "execution_count": 39,
     "metadata": {},
     "output_type": "execute_result"
    }
   ],
   "source": [
    "# Combining these two things, we have a very expressive way of filtering.\n",
    "# This gives us all the rows in which the protein is greater than 3.\n",
    "df[df[\"protein\"] > 3]"
   ]
  },
  {
   "cell_type": "markdown",
   "metadata": {
    "colab_type": "text",
    "id": "oL2wYVpUshue"
   },
   "source": [
    "## Manipulating Series\n",
    "\n",
    "Often when we're preprocessing data, we want to make uniform changes to a specific column. We can do this by applying functions."
   ]
  },
  {
   "cell_type": "code",
   "execution_count": 40,
   "metadata": {
    "colab": {},
    "colab_type": "code",
    "id": "wJMixASHshuf",
    "outputId": "edf85ebb-dbc6-4d00-ded1-ab9d081bfdb6"
   },
   "outputs": [
    {
     "data": {
      "text/plain": [
       "0                     Delicious 100% Bran\n",
       "1             Delicious 100% Natural Bran\n",
       "2                      Delicious All-Bran\n",
       "3     Delicious All-Bran with Extra Fiber\n",
       "4                Delicious Almond Delight\n",
       "                     ...                 \n",
       "72                      Delicious Triples\n",
       "73                         Delicious Trix\n",
       "74                   Delicious Wheat Chex\n",
       "75                     Delicious Wheaties\n",
       "76          Delicious Wheaties Honey Gold\n",
       "Name: name, Length: 77, dtype: object"
      ]
     },
     "execution_count": 40,
     "metadata": {},
     "output_type": "execute_result"
    }
   ],
   "source": [
    "# Suppose we want to make the cereals more appetizing.\n",
    "# Let's add \"Delicious \" to the beginning of every name.\n",
    "\n",
    "# The pattern is we define a function for a single entry\n",
    "def make_delicious(name):\n",
    "    return \"Delicious \" + name\n",
    "\n",
    "# and then call apply on the series to apply the function to each element in the series\n",
    "df[\"name\"].apply(make_delicious)"
   ]
  },
  {
   "cell_type": "code",
   "execution_count": 41,
   "metadata": {
    "colab": {},
    "colab_type": "code",
    "id": "V3VsiOUhshuh",
    "outputId": "2c20911c-c81e-4044-f29b-68ab9e7a2278"
   },
   "outputs": [
    {
     "data": {
      "text/html": [
       "<div>\n",
       "<style scoped>\n",
       "    .dataframe tbody tr th:only-of-type {\n",
       "        vertical-align: middle;\n",
       "    }\n",
       "\n",
       "    .dataframe tbody tr th {\n",
       "        vertical-align: top;\n",
       "    }\n",
       "\n",
       "    .dataframe thead th {\n",
       "        text-align: right;\n",
       "    }\n",
       "</style>\n",
       "<table border=\"1\" class=\"dataframe\">\n",
       "  <thead>\n",
       "    <tr style=\"text-align: right;\">\n",
       "      <th></th>\n",
       "      <th>name</th>\n",
       "      <th>mfr</th>\n",
       "      <th>type</th>\n",
       "      <th>calories</th>\n",
       "      <th>protein</th>\n",
       "      <th>fat</th>\n",
       "      <th>sodium</th>\n",
       "      <th>fiber</th>\n",
       "      <th>carbo</th>\n",
       "      <th>sugars</th>\n",
       "      <th>potass</th>\n",
       "      <th>vitamins</th>\n",
       "      <th>shelf</th>\n",
       "      <th>weight</th>\n",
       "      <th>cups</th>\n",
       "      <th>rating</th>\n",
       "    </tr>\n",
       "  </thead>\n",
       "  <tbody>\n",
       "    <tr>\n",
       "      <th>0</th>\n",
       "      <td>100% Bran</td>\n",
       "      <td>N</td>\n",
       "      <td>C</td>\n",
       "      <td>70</td>\n",
       "      <td>4</td>\n",
       "      <td>1</td>\n",
       "      <td>130</td>\n",
       "      <td>10.0</td>\n",
       "      <td>5.0</td>\n",
       "      <td>6</td>\n",
       "      <td>280</td>\n",
       "      <td>25</td>\n",
       "      <td>3</td>\n",
       "      <td>1.0</td>\n",
       "      <td>0.33</td>\n",
       "      <td>68.402973</td>\n",
       "    </tr>\n",
       "    <tr>\n",
       "      <th>1</th>\n",
       "      <td>100% Natural Bran</td>\n",
       "      <td>Q</td>\n",
       "      <td>C</td>\n",
       "      <td>120</td>\n",
       "      <td>3</td>\n",
       "      <td>5</td>\n",
       "      <td>15</td>\n",
       "      <td>2.0</td>\n",
       "      <td>8.0</td>\n",
       "      <td>8</td>\n",
       "      <td>135</td>\n",
       "      <td>0</td>\n",
       "      <td>3</td>\n",
       "      <td>1.0</td>\n",
       "      <td>1.00</td>\n",
       "      <td>33.983679</td>\n",
       "    </tr>\n",
       "    <tr>\n",
       "      <th>2</th>\n",
       "      <td>All-Bran</td>\n",
       "      <td>K</td>\n",
       "      <td>C</td>\n",
       "      <td>70</td>\n",
       "      <td>4</td>\n",
       "      <td>1</td>\n",
       "      <td>260</td>\n",
       "      <td>9.0</td>\n",
       "      <td>7.0</td>\n",
       "      <td>5</td>\n",
       "      <td>320</td>\n",
       "      <td>25</td>\n",
       "      <td>3</td>\n",
       "      <td>1.0</td>\n",
       "      <td>0.33</td>\n",
       "      <td>59.425505</td>\n",
       "    </tr>\n",
       "    <tr>\n",
       "      <th>3</th>\n",
       "      <td>All-Bran with Extra Fiber</td>\n",
       "      <td>K</td>\n",
       "      <td>C</td>\n",
       "      <td>50</td>\n",
       "      <td>4</td>\n",
       "      <td>0</td>\n",
       "      <td>140</td>\n",
       "      <td>14.0</td>\n",
       "      <td>8.0</td>\n",
       "      <td>0</td>\n",
       "      <td>330</td>\n",
       "      <td>25</td>\n",
       "      <td>3</td>\n",
       "      <td>1.0</td>\n",
       "      <td>0.50</td>\n",
       "      <td>93.704912</td>\n",
       "    </tr>\n",
       "    <tr>\n",
       "      <th>4</th>\n",
       "      <td>Almond Delight</td>\n",
       "      <td>R</td>\n",
       "      <td>C</td>\n",
       "      <td>110</td>\n",
       "      <td>2</td>\n",
       "      <td>2</td>\n",
       "      <td>200</td>\n",
       "      <td>1.0</td>\n",
       "      <td>14.0</td>\n",
       "      <td>8</td>\n",
       "      <td>-1</td>\n",
       "      <td>25</td>\n",
       "      <td>3</td>\n",
       "      <td>1.0</td>\n",
       "      <td>0.75</td>\n",
       "      <td>34.384843</td>\n",
       "    </tr>\n",
       "  </tbody>\n",
       "</table>\n",
       "</div>"
      ],
      "text/plain": [
       "                        name mfr type  calories  protein  fat  sodium  fiber  \\\n",
       "0                  100% Bran   N    C        70        4    1     130   10.0   \n",
       "1          100% Natural Bran   Q    C       120        3    5      15    2.0   \n",
       "2                   All-Bran   K    C        70        4    1     260    9.0   \n",
       "3  All-Bran with Extra Fiber   K    C        50        4    0     140   14.0   \n",
       "4             Almond Delight   R    C       110        2    2     200    1.0   \n",
       "\n",
       "   carbo  sugars  potass  vitamins  shelf  weight  cups     rating  \n",
       "0    5.0       6     280        25      3     1.0  0.33  68.402973  \n",
       "1    8.0       8     135         0      3     1.0  1.00  33.983679  \n",
       "2    7.0       5     320        25      3     1.0  0.33  59.425505  \n",
       "3    8.0       0     330        25      3     1.0  0.50  93.704912  \n",
       "4   14.0       8      -1        25      3     1.0  0.75  34.384843  "
      ]
     },
     "execution_count": 41,
     "metadata": {},
     "output_type": "execute_result"
    }
   ],
   "source": [
    "# this returns the changes, but doesn't apply them in place.\n",
    "# that means on our original dataframe, the cereals are still bland\n",
    "df.head()"
   ]
  },
  {
   "cell_type": "code",
   "execution_count": 42,
   "metadata": {
    "colab": {},
    "colab_type": "code",
    "id": "4nB_ha-Nshul",
    "outputId": "42b9dce4-bd0f-4afd-96e8-f65c5aea07c1"
   },
   "outputs": [
    {
     "data": {
      "text/html": [
       "<div>\n",
       "<style scoped>\n",
       "    .dataframe tbody tr th:only-of-type {\n",
       "        vertical-align: middle;\n",
       "    }\n",
       "\n",
       "    .dataframe tbody tr th {\n",
       "        vertical-align: top;\n",
       "    }\n",
       "\n",
       "    .dataframe thead th {\n",
       "        text-align: right;\n",
       "    }\n",
       "</style>\n",
       "<table border=\"1\" class=\"dataframe\">\n",
       "  <thead>\n",
       "    <tr style=\"text-align: right;\">\n",
       "      <th></th>\n",
       "      <th>name</th>\n",
       "      <th>mfr</th>\n",
       "      <th>type</th>\n",
       "      <th>calories</th>\n",
       "      <th>protein</th>\n",
       "      <th>fat</th>\n",
       "      <th>sodium</th>\n",
       "      <th>fiber</th>\n",
       "      <th>carbo</th>\n",
       "      <th>sugars</th>\n",
       "      <th>potass</th>\n",
       "      <th>vitamins</th>\n",
       "      <th>shelf</th>\n",
       "      <th>weight</th>\n",
       "      <th>cups</th>\n",
       "      <th>rating</th>\n",
       "    </tr>\n",
       "  </thead>\n",
       "  <tbody>\n",
       "    <tr>\n",
       "      <th>0</th>\n",
       "      <td>Delicious 100% Bran</td>\n",
       "      <td>N</td>\n",
       "      <td>C</td>\n",
       "      <td>70</td>\n",
       "      <td>4</td>\n",
       "      <td>1</td>\n",
       "      <td>130</td>\n",
       "      <td>10.0</td>\n",
       "      <td>5.0</td>\n",
       "      <td>6</td>\n",
       "      <td>280</td>\n",
       "      <td>25</td>\n",
       "      <td>3</td>\n",
       "      <td>1.0</td>\n",
       "      <td>0.33</td>\n",
       "      <td>68.402973</td>\n",
       "    </tr>\n",
       "    <tr>\n",
       "      <th>1</th>\n",
       "      <td>Delicious 100% Natural Bran</td>\n",
       "      <td>Q</td>\n",
       "      <td>C</td>\n",
       "      <td>120</td>\n",
       "      <td>3</td>\n",
       "      <td>5</td>\n",
       "      <td>15</td>\n",
       "      <td>2.0</td>\n",
       "      <td>8.0</td>\n",
       "      <td>8</td>\n",
       "      <td>135</td>\n",
       "      <td>0</td>\n",
       "      <td>3</td>\n",
       "      <td>1.0</td>\n",
       "      <td>1.00</td>\n",
       "      <td>33.983679</td>\n",
       "    </tr>\n",
       "    <tr>\n",
       "      <th>2</th>\n",
       "      <td>Delicious All-Bran</td>\n",
       "      <td>K</td>\n",
       "      <td>C</td>\n",
       "      <td>70</td>\n",
       "      <td>4</td>\n",
       "      <td>1</td>\n",
       "      <td>260</td>\n",
       "      <td>9.0</td>\n",
       "      <td>7.0</td>\n",
       "      <td>5</td>\n",
       "      <td>320</td>\n",
       "      <td>25</td>\n",
       "      <td>3</td>\n",
       "      <td>1.0</td>\n",
       "      <td>0.33</td>\n",
       "      <td>59.425505</td>\n",
       "    </tr>\n",
       "    <tr>\n",
       "      <th>3</th>\n",
       "      <td>Delicious All-Bran with Extra Fiber</td>\n",
       "      <td>K</td>\n",
       "      <td>C</td>\n",
       "      <td>50</td>\n",
       "      <td>4</td>\n",
       "      <td>0</td>\n",
       "      <td>140</td>\n",
       "      <td>14.0</td>\n",
       "      <td>8.0</td>\n",
       "      <td>0</td>\n",
       "      <td>330</td>\n",
       "      <td>25</td>\n",
       "      <td>3</td>\n",
       "      <td>1.0</td>\n",
       "      <td>0.50</td>\n",
       "      <td>93.704912</td>\n",
       "    </tr>\n",
       "    <tr>\n",
       "      <th>4</th>\n",
       "      <td>Delicious Almond Delight</td>\n",
       "      <td>R</td>\n",
       "      <td>C</td>\n",
       "      <td>110</td>\n",
       "      <td>2</td>\n",
       "      <td>2</td>\n",
       "      <td>200</td>\n",
       "      <td>1.0</td>\n",
       "      <td>14.0</td>\n",
       "      <td>8</td>\n",
       "      <td>-1</td>\n",
       "      <td>25</td>\n",
       "      <td>3</td>\n",
       "      <td>1.0</td>\n",
       "      <td>0.75</td>\n",
       "      <td>34.384843</td>\n",
       "    </tr>\n",
       "  </tbody>\n",
       "</table>\n",
       "</div>"
      ],
      "text/plain": [
       "                                  name mfr type  calories  protein  fat  \\\n",
       "0                  Delicious 100% Bran   N    C        70        4    1   \n",
       "1          Delicious 100% Natural Bran   Q    C       120        3    5   \n",
       "2                   Delicious All-Bran   K    C        70        4    1   \n",
       "3  Delicious All-Bran with Extra Fiber   K    C        50        4    0   \n",
       "4             Delicious Almond Delight   R    C       110        2    2   \n",
       "\n",
       "   sodium  fiber  carbo  sugars  potass  vitamins  shelf  weight  cups  \\\n",
       "0     130   10.0    5.0       6     280        25      3     1.0  0.33   \n",
       "1      15    2.0    8.0       8     135         0      3     1.0  1.00   \n",
       "2     260    9.0    7.0       5     320        25      3     1.0  0.33   \n",
       "3     140   14.0    8.0       0     330        25      3     1.0  0.50   \n",
       "4     200    1.0   14.0       8      -1        25      3     1.0  0.75   \n",
       "\n",
       "      rating  \n",
       "0  68.402973  \n",
       "1  33.983679  \n",
       "2  59.425505  \n",
       "3  93.704912  \n",
       "4  34.384843  "
      ]
     },
     "execution_count": 42,
     "metadata": {},
     "output_type": "execute_result"
    }
   ],
   "source": [
    "# we can fix this by assigning the new names to the column.\n",
    "df[\"name\"] = df[\"name\"].apply(make_delicious)\n",
    "df.head()"
   ]
  },
  {
   "cell_type": "code",
   "execution_count": 43,
   "metadata": {
    "colab": {},
    "colab_type": "code",
    "id": "GPlkcGOZshum"
   },
   "outputs": [
    {
     "data": {
      "text/html": [
       "<div>\n",
       "<style scoped>\n",
       "    .dataframe tbody tr th:only-of-type {\n",
       "        vertical-align: middle;\n",
       "    }\n",
       "\n",
       "    .dataframe tbody tr th {\n",
       "        vertical-align: top;\n",
       "    }\n",
       "\n",
       "    .dataframe thead th {\n",
       "        text-align: right;\n",
       "    }\n",
       "</style>\n",
       "<table border=\"1\" class=\"dataframe\">\n",
       "  <thead>\n",
       "    <tr style=\"text-align: right;\">\n",
       "      <th></th>\n",
       "      <th>name</th>\n",
       "      <th>mfr</th>\n",
       "      <th>type</th>\n",
       "      <th>calories</th>\n",
       "      <th>protein</th>\n",
       "      <th>fat</th>\n",
       "      <th>sodium</th>\n",
       "      <th>fiber</th>\n",
       "      <th>carbo</th>\n",
       "      <th>sugars</th>\n",
       "      <th>potass</th>\n",
       "      <th>vitamins</th>\n",
       "      <th>shelf</th>\n",
       "      <th>weight</th>\n",
       "      <th>cups</th>\n",
       "      <th>rating</th>\n",
       "    </tr>\n",
       "  </thead>\n",
       "  <tbody>\n",
       "    <tr>\n",
       "      <th>0</th>\n",
       "      <td>Delicious 100% Bran</td>\n",
       "      <td>N</td>\n",
       "      <td>C</td>\n",
       "      <td>70</td>\n",
       "      <td>4</td>\n",
       "      <td>1</td>\n",
       "      <td>130</td>\n",
       "      <td>10.0</td>\n",
       "      <td>5.0</td>\n",
       "      <td>11</td>\n",
       "      <td>280</td>\n",
       "      <td>25</td>\n",
       "      <td>3</td>\n",
       "      <td>1.0</td>\n",
       "      <td>0.33</td>\n",
       "      <td>68.402973</td>\n",
       "    </tr>\n",
       "    <tr>\n",
       "      <th>1</th>\n",
       "      <td>Delicious 100% Natural Bran</td>\n",
       "      <td>Q</td>\n",
       "      <td>C</td>\n",
       "      <td>120</td>\n",
       "      <td>3</td>\n",
       "      <td>5</td>\n",
       "      <td>15</td>\n",
       "      <td>2.0</td>\n",
       "      <td>8.0</td>\n",
       "      <td>13</td>\n",
       "      <td>135</td>\n",
       "      <td>0</td>\n",
       "      <td>3</td>\n",
       "      <td>1.0</td>\n",
       "      <td>1.00</td>\n",
       "      <td>33.983679</td>\n",
       "    </tr>\n",
       "    <tr>\n",
       "      <th>2</th>\n",
       "      <td>Delicious All-Bran</td>\n",
       "      <td>K</td>\n",
       "      <td>C</td>\n",
       "      <td>70</td>\n",
       "      <td>4</td>\n",
       "      <td>1</td>\n",
       "      <td>260</td>\n",
       "      <td>9.0</td>\n",
       "      <td>7.0</td>\n",
       "      <td>10</td>\n",
       "      <td>320</td>\n",
       "      <td>25</td>\n",
       "      <td>3</td>\n",
       "      <td>1.0</td>\n",
       "      <td>0.33</td>\n",
       "      <td>59.425505</td>\n",
       "    </tr>\n",
       "    <tr>\n",
       "      <th>3</th>\n",
       "      <td>Delicious All-Bran with Extra Fiber</td>\n",
       "      <td>K</td>\n",
       "      <td>C</td>\n",
       "      <td>50</td>\n",
       "      <td>4</td>\n",
       "      <td>0</td>\n",
       "      <td>140</td>\n",
       "      <td>14.0</td>\n",
       "      <td>8.0</td>\n",
       "      <td>5</td>\n",
       "      <td>330</td>\n",
       "      <td>25</td>\n",
       "      <td>3</td>\n",
       "      <td>1.0</td>\n",
       "      <td>0.50</td>\n",
       "      <td>93.704912</td>\n",
       "    </tr>\n",
       "    <tr>\n",
       "      <th>4</th>\n",
       "      <td>Delicious Almond Delight</td>\n",
       "      <td>R</td>\n",
       "      <td>C</td>\n",
       "      <td>110</td>\n",
       "      <td>2</td>\n",
       "      <td>2</td>\n",
       "      <td>200</td>\n",
       "      <td>1.0</td>\n",
       "      <td>14.0</td>\n",
       "      <td>13</td>\n",
       "      <td>-1</td>\n",
       "      <td>25</td>\n",
       "      <td>3</td>\n",
       "      <td>1.0</td>\n",
       "      <td>0.75</td>\n",
       "      <td>34.384843</td>\n",
       "    </tr>\n",
       "  </tbody>\n",
       "</table>\n",
       "</div>"
      ],
      "text/plain": [
       "                                  name mfr type  calories  protein  fat  \\\n",
       "0                  Delicious 100% Bran   N    C        70        4    1   \n",
       "1          Delicious 100% Natural Bran   Q    C       120        3    5   \n",
       "2                   Delicious All-Bran   K    C        70        4    1   \n",
       "3  Delicious All-Bran with Extra Fiber   K    C        50        4    0   \n",
       "4             Delicious Almond Delight   R    C       110        2    2   \n",
       "\n",
       "   sodium  fiber  carbo  sugars  potass  vitamins  shelf  weight  cups  \\\n",
       "0     130   10.0    5.0      11     280        25      3     1.0  0.33   \n",
       "1      15    2.0    8.0      13     135         0      3     1.0  1.00   \n",
       "2     260    9.0    7.0      10     320        25      3     1.0  0.33   \n",
       "3     140   14.0    8.0       5     330        25      3     1.0  0.50   \n",
       "4     200    1.0   14.0      13      -1        25      3     1.0  0.75   \n",
       "\n",
       "      rating  \n",
       "0  68.402973  \n",
       "1  33.983679  \n",
       "2  59.425505  \n",
       "3  93.704912  \n",
       "4  34.384843  "
      ]
     },
     "execution_count": 43,
     "metadata": {},
     "output_type": "execute_result"
    }
   ],
   "source": [
    "# here's another example.\n",
    "# Renee is a skeptic and doesn't believe calling things \"Delicious\" makes them taste better.\n",
    "# But she does think adding sugar will make them taste better.\n",
    "# How can we add 10 grams of sugar to every cereal?\n",
    "df[\"sugars\"] = df[\"sugars\"].apply(lambda sugars : sugars+5)\n",
    "df.head()"
   ]
  },
  {
   "cell_type": "markdown",
   "metadata": {
    "colab_type": "text",
    "id": "tQbDJpmSshuo"
   },
   "source": [
    "## Groups and Aggregates\n",
    "\n",
    "When we have lots and lots of data, it's more useful to look at aggregate statistics like the mean or median. But sometimes we lose too much detail aggregating across the whole dataset.\n",
    "\n",
    "The solution is to aggregate across groups. For example, maybe we're less interested in the mean calorie count of all cereals and more interested in the mean for each manufacturer."
   ]
  },
  {
   "cell_type": "code",
   "execution_count": 44,
   "metadata": {
    "colab": {},
    "colab_type": "code",
    "id": "bw1vxjO_shuo",
    "outputId": "fd097896-1f35-4cb2-ca44-89c3f41c5d95"
   },
   "outputs": [
    {
     "data": {
      "text/plain": [
       "array(['N', 'Q', 'K', 'R', 'G', 'P', 'A'], dtype=object)"
      ]
     },
     "execution_count": 44,
     "metadata": {},
     "output_type": "execute_result"
    }
   ],
   "source": [
    "# First, we can see how many (and which) unique manufacturers there are\n",
    "# Note: this gives us a numpy array\n",
    "df[\"mfr\"].unique()"
   ]
  },
  {
   "cell_type": "code",
   "execution_count": 45,
   "metadata": {
    "colab": {},
    "colab_type": "code",
    "id": "GMCHyNIGshur",
    "outputId": "d636f32f-d37c-48de-812f-e08b522056e9"
   },
   "outputs": [
    {
     "data": {
      "text/plain": [
       "<pandas.core.groupby.generic.DataFrameGroupBy object at 0x00000226F9AA6130>"
      ]
     },
     "execution_count": 45,
     "metadata": {},
     "output_type": "execute_result"
    }
   ],
   "source": [
    "# Now let's group by the manufacturers\n",
    "# This gives us a groupby object across the dataframe\n",
    "mfrs = df.groupby(\"mfr\")\n",
    "mfrs"
   ]
  },
  {
   "cell_type": "code",
   "execution_count": 46,
   "metadata": {
    "colab": {},
    "colab_type": "code",
    "id": "_GmuNx8Eshus",
    "outputId": "315b2bc2-f0c6-4b1f-9762-db90749588db"
   },
   "outputs": [
    {
     "data": {
      "text/plain": [
       "<pandas.core.groupby.generic.SeriesGroupBy object at 0x00000226F9AA6550>"
      ]
     },
     "execution_count": 46,
     "metadata": {},
     "output_type": "execute_result"
    }
   ],
   "source": [
    "# what happens if we try to access the calories column?\n",
    "mfrs[\"calories\"]"
   ]
  },
  {
   "cell_type": "code",
   "execution_count": 47,
   "metadata": {
    "colab": {},
    "colab_type": "code",
    "id": "keF1gxIQshuu",
    "outputId": "189c1d42-6ed4-4028-ba0b-0e40a4dc9a31"
   },
   "outputs": [
    {
     "data": {
      "text/plain": [
       "mfr\n",
       "A    100.000000\n",
       "G    111.363636\n",
       "K    108.695652\n",
       "N     86.666667\n",
       "P    108.888889\n",
       "Q     95.000000\n",
       "R    115.000000\n",
       "Name: calories, dtype: float64"
      ]
     },
     "execution_count": 47,
     "metadata": {},
     "output_type": "execute_result"
    }
   ],
   "source": [
    "# now let's try to get the mean\n",
    "mfrs[\"calories\"].mean()"
   ]
  },
  {
   "cell_type": "code",
   "execution_count": 48,
   "metadata": {
    "colab": {},
    "colab_type": "code",
    "id": "8eJW4lWbshuy",
    "outputId": "7ab6e604-9f80-48c0-8e4f-2a14709d8d32"
   },
   "outputs": [
    {
     "data": {
      "text/html": [
       "<div>\n",
       "<style scoped>\n",
       "    .dataframe tbody tr th:only-of-type {\n",
       "        vertical-align: middle;\n",
       "    }\n",
       "\n",
       "    .dataframe tbody tr th {\n",
       "        vertical-align: top;\n",
       "    }\n",
       "\n",
       "    .dataframe thead th {\n",
       "        text-align: right;\n",
       "    }\n",
       "</style>\n",
       "<table border=\"1\" class=\"dataframe\">\n",
       "  <thead>\n",
       "    <tr style=\"text-align: right;\">\n",
       "      <th></th>\n",
       "      <th>calories</th>\n",
       "      <th>protein</th>\n",
       "    </tr>\n",
       "    <tr>\n",
       "      <th>mfr</th>\n",
       "      <th></th>\n",
       "      <th></th>\n",
       "    </tr>\n",
       "  </thead>\n",
       "  <tbody>\n",
       "    <tr>\n",
       "      <th>A</th>\n",
       "      <td>100.000000</td>\n",
       "      <td>4</td>\n",
       "    </tr>\n",
       "    <tr>\n",
       "      <th>G</th>\n",
       "      <td>111.363636</td>\n",
       "      <td>6</td>\n",
       "    </tr>\n",
       "    <tr>\n",
       "      <th>K</th>\n",
       "      <td>108.695652</td>\n",
       "      <td>6</td>\n",
       "    </tr>\n",
       "    <tr>\n",
       "      <th>N</th>\n",
       "      <td>86.666667</td>\n",
       "      <td>4</td>\n",
       "    </tr>\n",
       "    <tr>\n",
       "      <th>P</th>\n",
       "      <td>108.888889</td>\n",
       "      <td>3</td>\n",
       "    </tr>\n",
       "    <tr>\n",
       "      <th>Q</th>\n",
       "      <td>95.000000</td>\n",
       "      <td>5</td>\n",
       "    </tr>\n",
       "    <tr>\n",
       "      <th>R</th>\n",
       "      <td>115.000000</td>\n",
       "      <td>4</td>\n",
       "    </tr>\n",
       "  </tbody>\n",
       "</table>\n",
       "</div>"
      ],
      "text/plain": [
       "       calories  protein\n",
       "mfr                     \n",
       "A    100.000000        4\n",
       "G    111.363636        6\n",
       "K    108.695652        6\n",
       "N     86.666667        4\n",
       "P    108.888889        3\n",
       "Q     95.000000        5\n",
       "R    115.000000        4"
      ]
     },
     "execution_count": 48,
     "metadata": {},
     "output_type": "execute_result"
    }
   ],
   "source": [
    "# we can also aggregate across multiple columns, and even use different aggregations\n",
    "# let's get the average calorie count but the maximum protein\n",
    "mfrs[[\"calories\", \"protein\"]].agg({\"calories\": \"mean\", \"protein\": \"max\"})"
   ]
  },
  {
   "cell_type": "markdown",
   "metadata": {},
   "source": [
    "# Plotting"
   ]
  },
  {
   "cell_type": "markdown",
   "metadata": {},
   "source": [
    "<img src=\"https://allisonhorst.github.io/palmerpenguins/reference/figures/lter_penguins.png\" width=500 />\n",
    "\n",
    "Visualization is an important part of exploring your data. Often, we can see trends that might get lost in rows and rows of numbers.\n",
    "\n",
    "We'll be visualizing the [Palmer Penguins dataset](https://allisonhorst.github.io/palmerpenguins/).\n",
    "\n",
    "<img src=\"https://allisonhorst.github.io/palmerpenguins/reference/figures/culmen_depth.png\" width=300 />"
   ]
  },
  {
   "cell_type": "code",
   "execution_count": 49,
   "metadata": {},
   "outputs": [],
   "source": [
    "penguins = pd.read_csv(\"./penguins_lter.csv\")"
   ]
  },
  {
   "cell_type": "code",
   "execution_count": 50,
   "metadata": {},
   "outputs": [
    {
     "data": {
      "text/html": [
       "<div>\n",
       "<style scoped>\n",
       "    .dataframe tbody tr th:only-of-type {\n",
       "        vertical-align: middle;\n",
       "    }\n",
       "\n",
       "    .dataframe tbody tr th {\n",
       "        vertical-align: top;\n",
       "    }\n",
       "\n",
       "    .dataframe thead th {\n",
       "        text-align: right;\n",
       "    }\n",
       "</style>\n",
       "<table border=\"1\" class=\"dataframe\">\n",
       "  <thead>\n",
       "    <tr style=\"text-align: right;\">\n",
       "      <th></th>\n",
       "      <th>studyName</th>\n",
       "      <th>Sample Number</th>\n",
       "      <th>Species</th>\n",
       "      <th>Region</th>\n",
       "      <th>Island</th>\n",
       "      <th>Stage</th>\n",
       "      <th>Individual ID</th>\n",
       "      <th>Clutch Completion</th>\n",
       "      <th>Date Egg</th>\n",
       "      <th>Culmen Length (mm)</th>\n",
       "      <th>Culmen Depth (mm)</th>\n",
       "      <th>Flipper Length (mm)</th>\n",
       "      <th>Body Mass (g)</th>\n",
       "      <th>Sex</th>\n",
       "      <th>Delta 15 N (o/oo)</th>\n",
       "      <th>Delta 13 C (o/oo)</th>\n",
       "      <th>Comments</th>\n",
       "    </tr>\n",
       "  </thead>\n",
       "  <tbody>\n",
       "    <tr>\n",
       "      <th>0</th>\n",
       "      <td>PAL0708</td>\n",
       "      <td>1</td>\n",
       "      <td>Adelie Penguin (Pygoscelis adeliae)</td>\n",
       "      <td>Anvers</td>\n",
       "      <td>Torgersen</td>\n",
       "      <td>Adult, 1 Egg Stage</td>\n",
       "      <td>N1A1</td>\n",
       "      <td>Yes</td>\n",
       "      <td>11/11/07</td>\n",
       "      <td>39.1</td>\n",
       "      <td>18.7</td>\n",
       "      <td>181.0</td>\n",
       "      <td>3750.0</td>\n",
       "      <td>MALE</td>\n",
       "      <td>NaN</td>\n",
       "      <td>NaN</td>\n",
       "      <td>Not enough blood for isotopes.</td>\n",
       "    </tr>\n",
       "    <tr>\n",
       "      <th>1</th>\n",
       "      <td>PAL0708</td>\n",
       "      <td>2</td>\n",
       "      <td>Adelie Penguin (Pygoscelis adeliae)</td>\n",
       "      <td>Anvers</td>\n",
       "      <td>Torgersen</td>\n",
       "      <td>Adult, 1 Egg Stage</td>\n",
       "      <td>N1A2</td>\n",
       "      <td>Yes</td>\n",
       "      <td>11/11/07</td>\n",
       "      <td>39.5</td>\n",
       "      <td>17.4</td>\n",
       "      <td>186.0</td>\n",
       "      <td>3800.0</td>\n",
       "      <td>FEMALE</td>\n",
       "      <td>8.94956</td>\n",
       "      <td>-24.69454</td>\n",
       "      <td>NaN</td>\n",
       "    </tr>\n",
       "    <tr>\n",
       "      <th>2</th>\n",
       "      <td>PAL0708</td>\n",
       "      <td>3</td>\n",
       "      <td>Adelie Penguin (Pygoscelis adeliae)</td>\n",
       "      <td>Anvers</td>\n",
       "      <td>Torgersen</td>\n",
       "      <td>Adult, 1 Egg Stage</td>\n",
       "      <td>N2A1</td>\n",
       "      <td>Yes</td>\n",
       "      <td>11/16/07</td>\n",
       "      <td>40.3</td>\n",
       "      <td>18.0</td>\n",
       "      <td>195.0</td>\n",
       "      <td>3250.0</td>\n",
       "      <td>FEMALE</td>\n",
       "      <td>8.36821</td>\n",
       "      <td>-25.33302</td>\n",
       "      <td>NaN</td>\n",
       "    </tr>\n",
       "    <tr>\n",
       "      <th>3</th>\n",
       "      <td>PAL0708</td>\n",
       "      <td>4</td>\n",
       "      <td>Adelie Penguin (Pygoscelis adeliae)</td>\n",
       "      <td>Anvers</td>\n",
       "      <td>Torgersen</td>\n",
       "      <td>Adult, 1 Egg Stage</td>\n",
       "      <td>N2A2</td>\n",
       "      <td>Yes</td>\n",
       "      <td>11/16/07</td>\n",
       "      <td>NaN</td>\n",
       "      <td>NaN</td>\n",
       "      <td>NaN</td>\n",
       "      <td>NaN</td>\n",
       "      <td>NaN</td>\n",
       "      <td>NaN</td>\n",
       "      <td>NaN</td>\n",
       "      <td>Adult not sampled.</td>\n",
       "    </tr>\n",
       "    <tr>\n",
       "      <th>4</th>\n",
       "      <td>PAL0708</td>\n",
       "      <td>5</td>\n",
       "      <td>Adelie Penguin (Pygoscelis adeliae)</td>\n",
       "      <td>Anvers</td>\n",
       "      <td>Torgersen</td>\n",
       "      <td>Adult, 1 Egg Stage</td>\n",
       "      <td>N3A1</td>\n",
       "      <td>Yes</td>\n",
       "      <td>11/16/07</td>\n",
       "      <td>36.7</td>\n",
       "      <td>19.3</td>\n",
       "      <td>193.0</td>\n",
       "      <td>3450.0</td>\n",
       "      <td>FEMALE</td>\n",
       "      <td>8.76651</td>\n",
       "      <td>-25.32426</td>\n",
       "      <td>NaN</td>\n",
       "    </tr>\n",
       "  </tbody>\n",
       "</table>\n",
       "</div>"
      ],
      "text/plain": [
       "  studyName  Sample Number                              Species  Region  \\\n",
       "0   PAL0708              1  Adelie Penguin (Pygoscelis adeliae)  Anvers   \n",
       "1   PAL0708              2  Adelie Penguin (Pygoscelis adeliae)  Anvers   \n",
       "2   PAL0708              3  Adelie Penguin (Pygoscelis adeliae)  Anvers   \n",
       "3   PAL0708              4  Adelie Penguin (Pygoscelis adeliae)  Anvers   \n",
       "4   PAL0708              5  Adelie Penguin (Pygoscelis adeliae)  Anvers   \n",
       "\n",
       "      Island               Stage Individual ID Clutch Completion  Date Egg  \\\n",
       "0  Torgersen  Adult, 1 Egg Stage          N1A1               Yes  11/11/07   \n",
       "1  Torgersen  Adult, 1 Egg Stage          N1A2               Yes  11/11/07   \n",
       "2  Torgersen  Adult, 1 Egg Stage          N2A1               Yes  11/16/07   \n",
       "3  Torgersen  Adult, 1 Egg Stage          N2A2               Yes  11/16/07   \n",
       "4  Torgersen  Adult, 1 Egg Stage          N3A1               Yes  11/16/07   \n",
       "\n",
       "   Culmen Length (mm)  Culmen Depth (mm)  Flipper Length (mm)  Body Mass (g)  \\\n",
       "0                39.1               18.7                181.0         3750.0   \n",
       "1                39.5               17.4                186.0         3800.0   \n",
       "2                40.3               18.0                195.0         3250.0   \n",
       "3                 NaN                NaN                  NaN            NaN   \n",
       "4                36.7               19.3                193.0         3450.0   \n",
       "\n",
       "      Sex  Delta 15 N (o/oo)  Delta 13 C (o/oo)  \\\n",
       "0    MALE                NaN                NaN   \n",
       "1  FEMALE            8.94956          -24.69454   \n",
       "2  FEMALE            8.36821          -25.33302   \n",
       "3     NaN                NaN                NaN   \n",
       "4  FEMALE            8.76651          -25.32426   \n",
       "\n",
       "                         Comments  \n",
       "0  Not enough blood for isotopes.  \n",
       "1                             NaN  \n",
       "2                             NaN  \n",
       "3              Adult not sampled.  \n",
       "4                             NaN  "
      ]
     },
     "execution_count": 50,
     "metadata": {},
     "output_type": "execute_result"
    }
   ],
   "source": [
    "penguins.head()"
   ]
  },
  {
   "cell_type": "markdown",
   "metadata": {},
   "source": [
    "## matplotlib, the black sheep\n",
    "\n",
    "`matplotlib` is _the_ plotting library in Python. It's based on matlab (blegh), so if you're into that, good! If you're not, I'm so sorry."
   ]
  },
  {
   "cell_type": "code",
   "execution_count": 51,
   "metadata": {},
   "outputs": [],
   "source": [
    "import matplotlib.pyplot as plt"
   ]
  },
  {
   "cell_type": "markdown",
   "metadata": {},
   "source": [
    "<img src=\"https://matplotlib.org/_images/anatomy.png\" width=400/>\n"
   ]
  },
  {
   "cell_type": "code",
   "execution_count": 52,
   "metadata": {},
   "outputs": [
    {
     "data": {
      "text/html": [
       "<div>\n",
       "<style scoped>\n",
       "    .dataframe tbody tr th:only-of-type {\n",
       "        vertical-align: middle;\n",
       "    }\n",
       "\n",
       "    .dataframe tbody tr th {\n",
       "        vertical-align: top;\n",
       "    }\n",
       "\n",
       "    .dataframe thead th {\n",
       "        text-align: right;\n",
       "    }\n",
       "</style>\n",
       "<table border=\"1\" class=\"dataframe\">\n",
       "  <thead>\n",
       "    <tr style=\"text-align: right;\">\n",
       "      <th></th>\n",
       "      <th>studyName</th>\n",
       "      <th>Sample Number</th>\n",
       "      <th>Species</th>\n",
       "      <th>Region</th>\n",
       "      <th>Island</th>\n",
       "      <th>Stage</th>\n",
       "      <th>Individual ID</th>\n",
       "      <th>Clutch Completion</th>\n",
       "      <th>Date Egg</th>\n",
       "      <th>Culmen Length (mm)</th>\n",
       "      <th>Culmen Depth (mm)</th>\n",
       "      <th>Flipper Length (mm)</th>\n",
       "      <th>Body Mass (g)</th>\n",
       "      <th>Sex</th>\n",
       "      <th>Delta 15 N (o/oo)</th>\n",
       "      <th>Delta 13 C (o/oo)</th>\n",
       "      <th>Comments</th>\n",
       "    </tr>\n",
       "  </thead>\n",
       "  <tbody>\n",
       "    <tr>\n",
       "      <th>0</th>\n",
       "      <td>PAL0708</td>\n",
       "      <td>1</td>\n",
       "      <td>Adelie Penguin (Pygoscelis adeliae)</td>\n",
       "      <td>Anvers</td>\n",
       "      <td>Torgersen</td>\n",
       "      <td>Adult, 1 Egg Stage</td>\n",
       "      <td>N1A1</td>\n",
       "      <td>Yes</td>\n",
       "      <td>11/11/07</td>\n",
       "      <td>39.1</td>\n",
       "      <td>18.7</td>\n",
       "      <td>181.0</td>\n",
       "      <td>3750.0</td>\n",
       "      <td>MALE</td>\n",
       "      <td>NaN</td>\n",
       "      <td>NaN</td>\n",
       "      <td>Not enough blood for isotopes.</td>\n",
       "    </tr>\n",
       "    <tr>\n",
       "      <th>1</th>\n",
       "      <td>PAL0708</td>\n",
       "      <td>2</td>\n",
       "      <td>Adelie Penguin (Pygoscelis adeliae)</td>\n",
       "      <td>Anvers</td>\n",
       "      <td>Torgersen</td>\n",
       "      <td>Adult, 1 Egg Stage</td>\n",
       "      <td>N1A2</td>\n",
       "      <td>Yes</td>\n",
       "      <td>11/11/07</td>\n",
       "      <td>39.5</td>\n",
       "      <td>17.4</td>\n",
       "      <td>186.0</td>\n",
       "      <td>3800.0</td>\n",
       "      <td>FEMALE</td>\n",
       "      <td>8.94956</td>\n",
       "      <td>-24.69454</td>\n",
       "      <td>NaN</td>\n",
       "    </tr>\n",
       "    <tr>\n",
       "      <th>2</th>\n",
       "      <td>PAL0708</td>\n",
       "      <td>3</td>\n",
       "      <td>Adelie Penguin (Pygoscelis adeliae)</td>\n",
       "      <td>Anvers</td>\n",
       "      <td>Torgersen</td>\n",
       "      <td>Adult, 1 Egg Stage</td>\n",
       "      <td>N2A1</td>\n",
       "      <td>Yes</td>\n",
       "      <td>11/16/07</td>\n",
       "      <td>40.3</td>\n",
       "      <td>18.0</td>\n",
       "      <td>195.0</td>\n",
       "      <td>3250.0</td>\n",
       "      <td>FEMALE</td>\n",
       "      <td>8.36821</td>\n",
       "      <td>-25.33302</td>\n",
       "      <td>NaN</td>\n",
       "    </tr>\n",
       "    <tr>\n",
       "      <th>3</th>\n",
       "      <td>PAL0708</td>\n",
       "      <td>4</td>\n",
       "      <td>Adelie Penguin (Pygoscelis adeliae)</td>\n",
       "      <td>Anvers</td>\n",
       "      <td>Torgersen</td>\n",
       "      <td>Adult, 1 Egg Stage</td>\n",
       "      <td>N2A2</td>\n",
       "      <td>Yes</td>\n",
       "      <td>11/16/07</td>\n",
       "      <td>NaN</td>\n",
       "      <td>NaN</td>\n",
       "      <td>NaN</td>\n",
       "      <td>NaN</td>\n",
       "      <td>NaN</td>\n",
       "      <td>NaN</td>\n",
       "      <td>NaN</td>\n",
       "      <td>Adult not sampled.</td>\n",
       "    </tr>\n",
       "    <tr>\n",
       "      <th>4</th>\n",
       "      <td>PAL0708</td>\n",
       "      <td>5</td>\n",
       "      <td>Adelie Penguin (Pygoscelis adeliae)</td>\n",
       "      <td>Anvers</td>\n",
       "      <td>Torgersen</td>\n",
       "      <td>Adult, 1 Egg Stage</td>\n",
       "      <td>N3A1</td>\n",
       "      <td>Yes</td>\n",
       "      <td>11/16/07</td>\n",
       "      <td>36.7</td>\n",
       "      <td>19.3</td>\n",
       "      <td>193.0</td>\n",
       "      <td>3450.0</td>\n",
       "      <td>FEMALE</td>\n",
       "      <td>8.76651</td>\n",
       "      <td>-25.32426</td>\n",
       "      <td>NaN</td>\n",
       "    </tr>\n",
       "  </tbody>\n",
       "</table>\n",
       "</div>"
      ],
      "text/plain": [
       "  studyName  Sample Number                              Species  Region  \\\n",
       "0   PAL0708              1  Adelie Penguin (Pygoscelis adeliae)  Anvers   \n",
       "1   PAL0708              2  Adelie Penguin (Pygoscelis adeliae)  Anvers   \n",
       "2   PAL0708              3  Adelie Penguin (Pygoscelis adeliae)  Anvers   \n",
       "3   PAL0708              4  Adelie Penguin (Pygoscelis adeliae)  Anvers   \n",
       "4   PAL0708              5  Adelie Penguin (Pygoscelis adeliae)  Anvers   \n",
       "\n",
       "      Island               Stage Individual ID Clutch Completion  Date Egg  \\\n",
       "0  Torgersen  Adult, 1 Egg Stage          N1A1               Yes  11/11/07   \n",
       "1  Torgersen  Adult, 1 Egg Stage          N1A2               Yes  11/11/07   \n",
       "2  Torgersen  Adult, 1 Egg Stage          N2A1               Yes  11/16/07   \n",
       "3  Torgersen  Adult, 1 Egg Stage          N2A2               Yes  11/16/07   \n",
       "4  Torgersen  Adult, 1 Egg Stage          N3A1               Yes  11/16/07   \n",
       "\n",
       "   Culmen Length (mm)  Culmen Depth (mm)  Flipper Length (mm)  Body Mass (g)  \\\n",
       "0                39.1               18.7                181.0         3750.0   \n",
       "1                39.5               17.4                186.0         3800.0   \n",
       "2                40.3               18.0                195.0         3250.0   \n",
       "3                 NaN                NaN                  NaN            NaN   \n",
       "4                36.7               19.3                193.0         3450.0   \n",
       "\n",
       "      Sex  Delta 15 N (o/oo)  Delta 13 C (o/oo)  \\\n",
       "0    MALE                NaN                NaN   \n",
       "1  FEMALE            8.94956          -24.69454   \n",
       "2  FEMALE            8.36821          -25.33302   \n",
       "3     NaN                NaN                NaN   \n",
       "4  FEMALE            8.76651          -25.32426   \n",
       "\n",
       "                         Comments  \n",
       "0  Not enough blood for isotopes.  \n",
       "1                             NaN  \n",
       "2                             NaN  \n",
       "3              Adult not sampled.  \n",
       "4                             NaN  "
      ]
     },
     "execution_count": 52,
     "metadata": {},
     "output_type": "execute_result"
    }
   ],
   "source": [
    "penguins.head()"
   ]
  },
  {
   "cell_type": "markdown",
   "metadata": {},
   "source": [
    "### Single Variable\n",
    "\n",
    "The simplest visualizations we can do are for single variables. How are they distributed across our dataset? For continuous variables, we can use a histogram."
   ]
  },
  {
   "cell_type": "code",
   "execution_count": 53,
   "metadata": {},
   "outputs": [
    {
     "data": {
      "text/plain": [
       "<matplotlib.axes._subplots.AxesSubplot at 0x226fa799a30>"
      ]
     },
     "execution_count": 53,
     "metadata": {},
     "output_type": "execute_result"
    },
    {
     "data": {
      "image/png": "[encoded data removed]",
      "text/plain": [
       "<Figure size 432x288 with 1 Axes>"
      ]
     },
     "metadata": {
      "needs_background": "light"
     },
     "output_type": "display_data"
    }
   ],
   "source": [
    "# what is the distribution of flipper lengths?\n",
    "penguins[\"Flipper Length (mm)\"].plot.hist(bins=20)"
   ]
  },
  {
   "cell_type": "markdown",
   "metadata": {},
   "source": [
    "For discrete variables, we can use a bar chart."
   ]
  },
  {
   "cell_type": "code",
   "execution_count": 54,
   "metadata": {},
   "outputs": [
    {
     "data": {
      "text/plain": [
       "<matplotlib.axes._subplots.AxesSubplot at 0x226f9ab7220>"
      ]
     },
     "execution_count": 54,
     "metadata": {},
     "output_type": "execute_result"
    },
    {
     "data": {
      "image/png": "[encoded data removed]",
      "text/plain": [
       "<Figure size 432x288 with 1 Axes>"
      ]
     },
     "metadata": {
      "needs_background": "light"
     },
     "output_type": "display_data"
    }
   ],
   "source": [
    "penguins[\"Island\"].value_counts().plot.bar()"
   ]
  },
  {
   "cell_type": "markdown",
   "metadata": {},
   "source": [
    "## Two variables\n",
    "\n",
    "Sometimes we're also interested in how two variables relate to each other. For two continuous variables, we can use a scatter plot."
   ]
  },
  {
   "cell_type": "code",
   "execution_count": 55,
   "metadata": {},
   "outputs": [
    {
     "data": {
      "text/plain": [
       "<matplotlib.axes._subplots.AxesSubplot at 0x226fafa7610>"
      ]
     },
     "execution_count": 55,
     "metadata": {},
     "output_type": "execute_result"
    },
    {
     "data": {
      "image/png": "[encoded data removed]",
      "text/plain": [
       "<Figure size 432x288 with 1 Axes>"
      ]
     },
     "metadata": {
      "needs_background": "light"
     },
     "output_type": "display_data"
    }
   ],
   "source": [
    "penguins.plot.scatter(x=\"Body Mass (g)\", y=\"Flipper Length (mm)\")"
   ]
  },
  {
   "cell_type": "markdown",
   "metadata": {},
   "source": [
    "For a discrete and a continuous variable, you can use small multiples."
   ]
  },
  {
   "cell_type": "code",
   "execution_count": 56,
   "metadata": {},
   "outputs": [
    {
     "data": {
      "text/plain": [
       "array([[<matplotlib.axes._subplots.AxesSubplot object at 0x00000226FB0168E0>,\n",
       "        <matplotlib.axes._subplots.AxesSubplot object at 0x00000226FB03D790>],\n",
       "       [<matplotlib.axes._subplots.AxesSubplot object at 0x00000226FB068BE0>,\n",
       "        <matplotlib.axes._subplots.AxesSubplot object at 0x00000226FB0A20A0>]],\n",
       "      dtype=object)"
      ]
     },
     "execution_count": 56,
     "metadata": {},
     "output_type": "execute_result"
    },
    {
     "data": {
      "image/png": "[encoded data removed]",
      "text/plain": [
       "<Figure size 720x720 with 4 Axes>"
      ]
     },
     "metadata": {
      "needs_background": "light"
     },
     "output_type": "display_data"
    }
   ],
   "source": [
    "penguins[\"Body Mass (g)\"].hist(by=penguins[\"Species\"], figsize=(10, 10))"
   ]
  },
  {
   "cell_type": "markdown",
   "metadata": {},
   "source": [
    "An alternative to small multiples is colorcoding"
   ]
  },
  {
   "cell_type": "code",
   "execution_count": 57,
   "metadata": {},
   "outputs": [
    {
     "data": {
      "text/plain": [
       "Species\n",
       "Adelie Penguin (Pygoscelis adeliae)          AxesSubplot(0.125,0.125;0.775x0.755)\n",
       "Chinstrap penguin (Pygoscelis antarctica)    AxesSubplot(0.125,0.125;0.775x0.755)\n",
       "Gentoo penguin (Pygoscelis papua)            AxesSubplot(0.125,0.125;0.775x0.755)\n",
       "Name: Body Mass (g), dtype: object"
      ]
     },
     "execution_count": 57,
     "metadata": {},
     "output_type": "execute_result"
    },
    {
     "data": {
      "image/png": "[encoded data removed]",
      "text/plain": [
       "<Figure size 432x288 with 1 Axes>"
      ]
     },
     "metadata": {
      "needs_background": "light"
     },
     "output_type": "display_data"
    }
   ],
   "source": [
    "penguins.groupby(\"Species\")[\"Body Mass (g)\"].hist()"
   ]
  },
  {
   "cell_type": "markdown",
   "metadata": {},
   "source": [
    "### Three or more variables\n",
    "\n",
    "How do we visualize more than two variables in two dimensions? There's a lot of options! For example, if we wanted to compare body mass and flipper length, but across species, we can use small multiples or color-coding also!"
   ]
  },
  {
   "cell_type": "code",
   "execution_count": 58,
   "metadata": {},
   "outputs": [
    {
     "data": {
      "text/plain": [
       "array(['Adelie Penguin (Pygoscelis adeliae)',\n",
       "       'Chinstrap penguin (Pygoscelis antarctica)',\n",
       "       'Gentoo penguin (Pygoscelis papua)'], dtype=object)"
      ]
     },
     "execution_count": 58,
     "metadata": {},
     "output_type": "execute_result"
    }
   ],
   "source": [
    "penguins.Species.unique()"
   ]
  },
  {
   "cell_type": "code",
   "execution_count": 59,
   "metadata": {},
   "outputs": [
    {
     "data": {
      "text/plain": [
       "<matplotlib.axes._subplots.AxesSubplot at 0x226fb1e3700>"
      ]
     },
     "execution_count": 59,
     "metadata": {},
     "output_type": "execute_result"
    },
    {
     "data": {
      "image/png": "[encoded data removed]",
      "text/plain": [
       "<Figure size 720x720 with 1 Axes>"
      ]
     },
     "metadata": {
      "needs_background": "light"
     },
     "output_type": "display_data"
    }
   ],
   "source": [
    "colormap = {\n",
    "    \"Adelie Penguin (Pygoscelis adeliae)\": \"#ff8100\",\n",
    "    \"Gentoo penguin (Pygoscelis papua)\": \"#087175\",\n",
    "    \"Chinstrap penguin (Pygoscelis antarctica)\": \"#c15bcb\"\n",
    "}\n",
    "penguins.plot.scatter(x=\"Body Mass (g)\", y=\"Flipper Length (mm)\", c=penguins.Species.apply(colormap.get), figsize=(10, 10))"
   ]
  },
  {
   "cell_type": "markdown",
   "metadata": {},
   "source": [
    "## Seaborn, the golden child\n",
    "\n",
    "As your visualizations become more complex and less exploratory, you might find `matplotlib` annoying or restricting. A good alternative is `seaborn`, which is a plotting library that provides an abstraction over `matplotlib`."
   ]
  },
  {
   "cell_type": "code",
   "execution_count": 60,
   "metadata": {},
   "outputs": [],
   "source": [
    "import seaborn as sns\n",
    "sns.set()  # sets settings"
   ]
  },
  {
   "cell_type": "markdown",
   "metadata": {},
   "source": [
    "Let's do the color-coded scatter plot again!"
   ]
  },
  {
   "cell_type": "code",
   "execution_count": 61,
   "metadata": {
    "scrolled": false
   },
   "outputs": [
    {
     "data": {
      "text/plain": [
       "<matplotlib.axes._subplots.AxesSubplot at 0x226faffb6d0>"
      ]
     },
     "execution_count": 61,
     "metadata": {},
     "output_type": "execute_result"
    },
    {
     "data": {
      "image/png": "[encoded data removed]",
      "text/plain": [
       "<Figure size 432x288 with 1 Axes>"
      ]
     },
     "metadata": {},
     "output_type": "display_data"
    }
   ],
   "source": [
    "sns.scatterplot(data=penguins, x=\"Body Mass (g)\", y=\"Flipper Length (mm)\", hue=\"Species\")"
   ]
  },
  {
   "cell_type": "markdown",
   "metadata": {},
   "source": [
    "Seaborn also makes it easy for us to add even more dimensions to our visualization."
   ]
  },
  {
   "cell_type": "code",
   "execution_count": 62,
   "metadata": {},
   "outputs": [
    {
     "data": {
      "text/plain": [
       "<matplotlib.axes._subplots.AxesSubplot at 0x226fb21d970>"
      ]
     },
     "execution_count": 62,
     "metadata": {},
     "output_type": "execute_result"
    },
    {
     "data": {
      "image/png": "[encoded data removed]",
      "text/plain": [
       "<Figure size 720x720 with 1 Axes>"
      ]
     },
     "metadata": {},
     "output_type": "display_data"
    }
   ],
   "source": [
    "plt.figure(figsize=(10, 10))\n",
    "sns.scatterplot(data=penguins, x=\"Body Mass (g)\", y=\"Flipper Length (mm)\", hue=\"Species\", size=\"Culmen Depth (mm)\")"
   ]
  },
  {
   "cell_type": "markdown",
   "metadata": {},
   "source": [
    "Using some of Seaborn's more advanced visualizations, we might even discover some actionable patterns (you can see just some of the things `seaborn` can do [here](https://seaborn.pydata.org/examples/index.html)).\n",
    "\n",
    "Let's go back to our initial 1-dimensional continuous plots for a second."
   ]
  },
  {
   "cell_type": "code",
   "execution_count": 63,
   "metadata": {},
   "outputs": [
    {
     "data": {
      "text/plain": [
       "<seaborn.axisgrid.FacetGrid at 0x226fb21d640>"
      ]
     },
     "execution_count": 63,
     "metadata": {},
     "output_type": "execute_result"
    },
    {
     "data": {
      "image/png": "[encoded data removed]",
      "text/plain": [
       "<Figure size 360x360 with 1 Axes>"
      ]
     },
     "metadata": {},
     "output_type": "display_data"
    }
   ],
   "source": [
    "sns.displot(data=penguins, x=\"Culmen Length (mm)\", bins=30)"
   ]
  },
  {
   "cell_type": "markdown",
   "metadata": {},
   "source": [
    "This is cool and all, but what if we want a smoother representation of the distribution? Seaborn provides \"kernel density estimates\", which is a fancy way of saying a smoother version of the histogram."
   ]
  },
  {
   "cell_type": "code",
   "execution_count": 64,
   "metadata": {},
   "outputs": [
    {
     "data": {
      "text/plain": [
       "<seaborn.axisgrid.FacetGrid at 0x226fd515ee0>"
      ]
     },
     "execution_count": 64,
     "metadata": {},
     "output_type": "execute_result"
    },
    {
     "data": {
      "image/png": "[encoded data removed]",
      "text/plain": [
       "<Figure size 360x360 with 1 Axes>"
      ]
     },
     "metadata": {},
     "output_type": "display_data"
    }
   ],
   "source": [
    "sns.displot(data=penguins, x=\"Culmen Length (mm)\", kind=\"kde\")"
   ]
  },
  {
   "cell_type": "markdown",
   "metadata": {},
   "source": [
    "We can even plot the KDEs of two different continuous variables against each other!"
   ]
  },
  {
   "cell_type": "code",
   "execution_count": 65,
   "metadata": {},
   "outputs": [
    {
     "data": {
      "text/plain": [
       "<seaborn.axisgrid.JointGrid at 0x226fd63d280>"
      ]
     },
     "execution_count": 65,
     "metadata": {},
     "output_type": "execute_result"
    },
    {
     "data": {
      "image/png": "[encoded data removed]",
      "text/plain": [
       "<Figure size 432x432 with 3 Axes>"
      ]
     },
     "metadata": {},
     "output_type": "display_data"
    }
   ],
   "source": [
    "sns.jointplot(data=penguins, x=\"Culmen Length (mm)\", y=\"Culmen Depth (mm)\", kind=\"kde\")"
   ]
  },
  {
   "cell_type": "markdown",
   "metadata": {},
   "source": [
    "Now, let's split by species to see if we can spot any differences."
   ]
  },
  {
   "cell_type": "code",
   "execution_count": 66,
   "metadata": {},
   "outputs": [
    {
     "data": {
      "text/plain": [
       "<seaborn.axisgrid.JointGrid at 0x226fd966400>"
      ]
     },
     "execution_count": 66,
     "metadata": {},
     "output_type": "execute_result"
    },
    {
     "data": {
      "image/png": "[encoded data removed]",
      "text/plain": [
       "<Figure size 432x432 with 3 Axes>"
      ]
     },
     "metadata": {},
     "output_type": "display_data"
    }
   ],
   "source": [
    "sns.jointplot(data=penguins, x=\"Culmen Length (mm)\", y=\"Culmen Depth (mm)\", hue=\"Species\", kind=\"kde\")"
   ]
  },
  {
   "cell_type": "markdown",
   "metadata": {
    "colab_type": "text",
    "id": "0a8IYAJUshu1"
   },
   "source": [
    "# Exercises\n",
    "\n",
    "Unless otherwise noted, these should be one line of code."
   ]
  },
  {
   "cell_type": "code",
   "execution_count": 67,
   "metadata": {
    "colab": {},
    "colab_type": "code",
    "id": "Jo6wuTgkshu1"
   },
   "outputs": [
    {
     "data": {
      "text/plain": [
       "[1, 4, 9, 16, 25, 36]"
      ]
     },
     "execution_count": 67,
     "metadata": {},
     "output_type": "execute_result"
    }
   ],
   "source": [
    "# here is a Python list:\n",
    "a = [1, 2, 3, 4, 5, 6]\n",
    "# get a list containing the last 3 elements of a\n",
    "a[-3:]\n",
    "# reverse the list\n",
    "a[::-1]\n",
    "# get a list where each entry in a is squared (so the new list is [1, 4, 9, 16, 25, 36])\n",
    "[i**2 for i in a]"
   ]
  },
  {
   "cell_type": "code",
   "execution_count": 68,
   "metadata": {
    "colab": {},
    "colab_type": "code",
    "id": "qANtg5kQshu2"
   },
   "outputs": [],
   "source": [
    "# create a numpy array from this list\n",
    "b = np.array(a) # change this"
   ]
  },
  {
   "cell_type": "code",
   "execution_count": 69,
   "metadata": {
    "colab": {},
    "colab_type": "code",
    "id": "91CXRflLshu4"
   },
   "outputs": [
    {
     "data": {
      "text/plain": [
       "3.5"
      ]
     },
     "execution_count": 69,
     "metadata": {},
     "output_type": "execute_result"
    }
   ],
   "source": [
    "# find the mean of b\n",
    "np.mean(b)"
   ]
  },
  {
   "cell_type": "code",
   "execution_count": 70,
   "metadata": {
    "colab": {},
    "colab_type": "code",
    "id": "ZJZFwzQfshu9"
   },
   "outputs": [],
   "source": [
    "# get a list where each entry in b is squared (so the new numpy array is [1, 4, 9, 16, 25, 36])\n",
    "# use a different (numpy-specific) approach\n",
    "b = b**2\n",
    "# or np.square(b)"
   ]
  },
  {
   "cell_type": "code",
   "execution_count": 71,
   "metadata": {
    "colab": {},
    "colab_type": "code",
    "id": "ajbA5rCCshu5"
   },
   "outputs": [],
   "source": [
    "# change b from a length-6 list to a 2x3 matrix\n",
    "b = b.reshape(2, 3)"
   ]
  },
  {
   "cell_type": "code",
   "execution_count": 72,
   "metadata": {
    "colab": {},
    "colab_type": "code",
    "id": "wancU_PWshu6"
   },
   "outputs": [
    {
     "data": {
      "text/plain": [
       "array([ 4.66666667, 25.66666667])"
      ]
     },
     "execution_count": 72,
     "metadata": {},
     "output_type": "execute_result"
    }
   ],
   "source": [
    "# find the mean value of each row\n",
    "np.mean(b, axis=1)"
   ]
  },
  {
   "cell_type": "code",
   "execution_count": 73,
   "metadata": {
    "colab": {},
    "colab_type": "code",
    "id": "N3hXBrBtshu7"
   },
   "outputs": [
    {
     "data": {
      "text/plain": [
       "array([17, 29, 45], dtype=int32)"
      ]
     },
     "execution_count": 73,
     "metadata": {},
     "output_type": "execute_result"
    }
   ],
   "source": [
    "# find the mean value of each column\n",
    "np.sum(b, axis=0)"
   ]
  },
  {
   "cell_type": "code",
   "execution_count": 74,
   "metadata": {
    "colab": {},
    "colab_type": "code",
    "id": "GvbO8gBXshu8"
   },
   "outputs": [
    {
     "data": {
      "text/plain": [
       "array([ 9, 36], dtype=int32)"
      ]
     },
     "execution_count": 74,
     "metadata": {},
     "output_type": "execute_result"
    }
   ],
   "source": [
    "# find the third column of b\n",
    "b[:,2]"
   ]
  },
  {
   "cell_type": "code",
   "execution_count": 75,
   "metadata": {
    "colab": {},
    "colab_type": "code",
    "id": "WzCQ5HOJshvA"
   },
   "outputs": [
    {
     "data": {
      "text/html": [
       "<div>\n",
       "<style scoped>\n",
       "    .dataframe tbody tr th:only-of-type {\n",
       "        vertical-align: middle;\n",
       "    }\n",
       "\n",
       "    .dataframe tbody tr th {\n",
       "        vertical-align: top;\n",
       "    }\n",
       "\n",
       "    .dataframe thead th {\n",
       "        text-align: right;\n",
       "    }\n",
       "</style>\n",
       "<table border=\"1\" class=\"dataframe\">\n",
       "  <thead>\n",
       "    <tr style=\"text-align: right;\">\n",
       "      <th></th>\n",
       "      <th>Beverage_category</th>\n",
       "      <th>Beverage</th>\n",
       "      <th>Beverage_prep</th>\n",
       "      <th>Calories</th>\n",
       "      <th>Total Fat (g)</th>\n",
       "      <th>Trans Fat (g)</th>\n",
       "      <th>Saturated Fat (g)</th>\n",
       "      <th>Sodium (mg)</th>\n",
       "      <th>Total Carbohydrates (g)</th>\n",
       "      <th>Cholesterol (mg)</th>\n",
       "      <th>Dietary Fibre (g)</th>\n",
       "      <th>Sugars (g)</th>\n",
       "      <th>Protein (g)</th>\n",
       "      <th>Vitamin A (% DV)</th>\n",
       "      <th>Vitamin C (% DV)</th>\n",
       "      <th>Calcium (% DV)</th>\n",
       "      <th>Iron (% DV)</th>\n",
       "      <th>Caffeine (mg)</th>\n",
       "    </tr>\n",
       "  </thead>\n",
       "  <tbody>\n",
       "    <tr>\n",
       "      <th>0</th>\n",
       "      <td>Coffee</td>\n",
       "      <td>Brewed Coffee</td>\n",
       "      <td>Short</td>\n",
       "      <td>3</td>\n",
       "      <td>0.1</td>\n",
       "      <td>0.0</td>\n",
       "      <td>0.0</td>\n",
       "      <td>0</td>\n",
       "      <td>5</td>\n",
       "      <td>0</td>\n",
       "      <td>0</td>\n",
       "      <td>0</td>\n",
       "      <td>0.3</td>\n",
       "      <td>0%</td>\n",
       "      <td>0%</td>\n",
       "      <td>0%</td>\n",
       "      <td>0%</td>\n",
       "      <td>175</td>\n",
       "    </tr>\n",
       "    <tr>\n",
       "      <th>1</th>\n",
       "      <td>Coffee</td>\n",
       "      <td>Brewed Coffee</td>\n",
       "      <td>Tall</td>\n",
       "      <td>4</td>\n",
       "      <td>0.1</td>\n",
       "      <td>0.0</td>\n",
       "      <td>0.0</td>\n",
       "      <td>0</td>\n",
       "      <td>10</td>\n",
       "      <td>0</td>\n",
       "      <td>0</td>\n",
       "      <td>0</td>\n",
       "      <td>0.5</td>\n",
       "      <td>0%</td>\n",
       "      <td>0%</td>\n",
       "      <td>0%</td>\n",
       "      <td>0%</td>\n",
       "      <td>260</td>\n",
       "    </tr>\n",
       "    <tr>\n",
       "      <th>2</th>\n",
       "      <td>Coffee</td>\n",
       "      <td>Brewed Coffee</td>\n",
       "      <td>Grande</td>\n",
       "      <td>5</td>\n",
       "      <td>0.1</td>\n",
       "      <td>0.0</td>\n",
       "      <td>0.0</td>\n",
       "      <td>0</td>\n",
       "      <td>10</td>\n",
       "      <td>0</td>\n",
       "      <td>0</td>\n",
       "      <td>0</td>\n",
       "      <td>1.0</td>\n",
       "      <td>0%</td>\n",
       "      <td>0%</td>\n",
       "      <td>0%</td>\n",
       "      <td>0%</td>\n",
       "      <td>330</td>\n",
       "    </tr>\n",
       "    <tr>\n",
       "      <th>3</th>\n",
       "      <td>Coffee</td>\n",
       "      <td>Brewed Coffee</td>\n",
       "      <td>Venti</td>\n",
       "      <td>5</td>\n",
       "      <td>0.1</td>\n",
       "      <td>0.0</td>\n",
       "      <td>0.0</td>\n",
       "      <td>0</td>\n",
       "      <td>10</td>\n",
       "      <td>0</td>\n",
       "      <td>0</td>\n",
       "      <td>0</td>\n",
       "      <td>1.0</td>\n",
       "      <td>0%</td>\n",
       "      <td>0%</td>\n",
       "      <td>2%</td>\n",
       "      <td>0%</td>\n",
       "      <td>410</td>\n",
       "    </tr>\n",
       "    <tr>\n",
       "      <th>4</th>\n",
       "      <td>Classic Espresso Drinks</td>\n",
       "      <td>Caffè Latte</td>\n",
       "      <td>Short Nonfat Milk</td>\n",
       "      <td>70</td>\n",
       "      <td>0.1</td>\n",
       "      <td>0.1</td>\n",
       "      <td>0.0</td>\n",
       "      <td>5</td>\n",
       "      <td>75</td>\n",
       "      <td>10</td>\n",
       "      <td>0</td>\n",
       "      <td>9</td>\n",
       "      <td>6.0</td>\n",
       "      <td>10%</td>\n",
       "      <td>0%</td>\n",
       "      <td>20%</td>\n",
       "      <td>0%</td>\n",
       "      <td>75</td>\n",
       "    </tr>\n",
       "  </tbody>\n",
       "</table>\n",
       "</div>"
      ],
      "text/plain": [
       "         Beverage_category       Beverage      Beverage_prep  Calories  \\\n",
       "0                   Coffee  Brewed Coffee              Short         3   \n",
       "1                   Coffee  Brewed Coffee               Tall         4   \n",
       "2                   Coffee  Brewed Coffee             Grande         5   \n",
       "3                   Coffee  Brewed Coffee              Venti         5   \n",
       "4  Classic Espresso Drinks    Caffè Latte  Short Nonfat Milk        70   \n",
       "\n",
       "   Total Fat (g)  Trans Fat (g)  Saturated Fat (g)   Sodium (mg)  \\\n",
       "0            0.1            0.0                0.0             0   \n",
       "1            0.1            0.0                0.0             0   \n",
       "2            0.1            0.0                0.0             0   \n",
       "3            0.1            0.0                0.0             0   \n",
       "4            0.1            0.1                0.0             5   \n",
       "\n",
       "   Total Carbohydrates (g)  Cholesterol (mg)  Dietary Fibre (g)  Sugars (g)  \\\n",
       "0                        5                 0                  0           0   \n",
       "1                       10                 0                  0           0   \n",
       "2                       10                 0                  0           0   \n",
       "3                       10                 0                  0           0   \n",
       "4                       75                10                  0           9   \n",
       "\n",
       "   Protein (g) Vitamin A (% DV) Vitamin C (% DV) Calcium (% DV) Iron (% DV)  \\\n",
       "0          0.3               0%               0%             0%          0%   \n",
       "1          0.5               0%               0%             0%          0%   \n",
       "2          1.0               0%               0%             0%          0%   \n",
       "3          1.0               0%               0%             2%          0%   \n",
       "4          6.0              10%               0%            20%          0%   \n",
       "\n",
       "  Caffeine (mg)  \n",
       "0           175  \n",
       "1           260  \n",
       "2           330  \n",
       "3           410  \n",
       "4            75  "
      ]
     },
     "execution_count": 75,
     "metadata": {},
     "output_type": "execute_result"
    }
   ],
   "source": [
    "# load in the \"starbucks.csv\" dataset\n",
    "starbucks = pd.read_csv(\"./starbucks.csv\")\n",
    "starbucks.head()"
   ]
  },
  {
   "cell_type": "code",
   "execution_count": 76,
   "metadata": {
    "colab": {},
    "colab_type": "code",
    "id": "rIoxaSxHshvB"
   },
   "outputs": [
    {
     "data": {
      "text/plain": [
       "193.87190082644628"
      ]
     },
     "execution_count": 76,
     "metadata": {},
     "output_type": "execute_result"
    }
   ],
   "source": [
    "# this is nutritional info for starbucks items\n",
    "# let's see if we can answer some questions\n",
    "\n",
    "# what is the average # calories across all items?\n",
    "starbucks[\"Calories\"].mean()"
   ]
  },
  {
   "cell_type": "code",
   "execution_count": 77,
   "metadata": {
    "colab": {},
    "colab_type": "code",
    "id": "ABX7i49FshvD"
   },
   "outputs": [
    {
     "data": {
      "text/plain": [
       "9"
      ]
     },
     "execution_count": 77,
     "metadata": {},
     "output_type": "execute_result"
    }
   ],
   "source": [
    "# how many different categories of beverages are there?\n",
    "starbucks[\"Beverage_category\"].unique().size"
   ]
  },
  {
   "cell_type": "code",
   "execution_count": 78,
   "metadata": {
    "colab": {},
    "colab_type": "code",
    "id": "P9QatZAzshvE"
   },
   "outputs": [
    {
     "data": {
      "text/plain": [
       "Beverage\n",
       "Banana Chocolate Smoothie                              290.000000\n",
       "Brewed Coffee                                            4.250000\n",
       "Caffè Americano                                         13.750000\n",
       "Caffè Latte                                            139.166667\n",
       "Caffè Mocha (Without Whipped Cream)                    210.000000\n",
       "Cappuccino                                              90.000000\n",
       "Caramel                                                150.000000\n",
       "Caramel (Without Whipped Cream)                        268.888889\n",
       "Caramel Apple Spice (Without Whipped Cream)            247.500000\n",
       "Caramel Macchiato                                      184.166667\n",
       "Coffee                                                 210.000000\n",
       "Espresso                                                 7.500000\n",
       "Hot Chocolate (Without Whipped Cream)                  236.666667\n",
       "Iced Brewed Coffee (With Classic Syrup)                 93.333333\n",
       "Iced Brewed Coffee (With Milk & Classic Syrup)         122.222222\n",
       "Java Chip                                              220.000000\n",
       "Java Chip (Without Whipped Cream)                      327.777778\n",
       "Mocha                                                  156.666667\n",
       "Mocha (Without Whipped Cream)                          272.222222\n",
       "Orange Mango Banana Smoothie                           266.666667\n",
       "Shaken Iced Tazo® Tea (With Classic Syrup)              86.666667\n",
       "Shaken Iced Tazo® Tea Lemonade (With Classic Syrup)    140.000000\n",
       "Skinny Latte (Any Flavour)                             110.000000\n",
       "Strawberries & Crème (Without Whipped Cream)           248.888889\n",
       "Strawberry Banana Smoothie                             290.000000\n",
       "Tazo® Chai Tea Latte                                   196.666667\n",
       "Tazo® Full-Leaf Red Tea Latte (Vanilla Rooibos)        148.333333\n",
       "Tazo® Full-Leaf Tea Latte                              148.333333\n",
       "Tazo® Green Tea Latte                                  275.000000\n",
       "Tazo® Tea                                                0.000000\n",
       "Vanilla Bean (Without Whipped Cream)                   197.500000\n",
       "Vanilla Latte (Or Other Flavoured Latte)               195.833333\n",
       "White Chocolate Mocha (Without Whipped Cream)          330.000000\n",
       "Name: Calories, dtype: float64"
      ]
     },
     "execution_count": 78,
     "metadata": {},
     "output_type": "execute_result"
    }
   ],
   "source": [
    "# what is the average # calories for each beverage category?\n",
    "starbucks.groupby(\"Beverage\")[\"Calories\"].mean()"
   ]
  },
  {
   "cell_type": "code",
   "execution_count": 79,
   "metadata": {
    "colab": {},
    "colab_type": "code",
    "id": "y8KEpYNkshvG"
   },
   "outputs": [
    {
     "data": {
      "text/plain": [
       "'Whole Milk'"
      ]
     },
     "execution_count": 79,
     "metadata": {},
     "output_type": "execute_result"
    }
   ],
   "source": [
    "# what beverage preparation includes the most sugar on average?\n",
    "starbucks.groupby(\"Beverage_prep\")[\"Sugars (g)\"].mean().idxmax()         "
   ]
  },
  {
   "cell_type": "code",
   "execution_count": 80,
   "metadata": {
    "colab": {},
    "colab_type": "code",
    "id": "MnbCEJw8shvH"
   },
   "outputs": [
    {
     "data": {
      "text/plain": [
       "20.75619834710744"
      ]
     },
     "execution_count": 80,
     "metadata": {},
     "output_type": "execute_result"
    }
   ],
   "source": [
    "# what is the average % daily value calcium content for each beverage?\n",
    "# HINT: make sure your columns have the datatypes you want\n",
    "# (you can use more than one line for this one)\n",
    "def percent_off(i):\n",
    "    return float(i.strip('%'))\n",
    "starbucks[\"Calcium (% DV)\"].apply(percent_off).mean()"
   ]
  },
  {
   "cell_type": "code",
   "execution_count": 81,
   "metadata": {
    "colab": {},
    "colab_type": "code",
    "id": "Nv5dksj_shvJ"
   },
   "outputs": [
    {
     "data": {
      "text/html": [
       "<div>\n",
       "<style scoped>\n",
       "    .dataframe tbody tr th:only-of-type {\n",
       "        vertical-align: middle;\n",
       "    }\n",
       "\n",
       "    .dataframe tbody tr th {\n",
       "        vertical-align: top;\n",
       "    }\n",
       "\n",
       "    .dataframe thead th {\n",
       "        text-align: right;\n",
       "    }\n",
       "</style>\n",
       "<table border=\"1\" class=\"dataframe\">\n",
       "  <thead>\n",
       "    <tr style=\"text-align: right;\">\n",
       "      <th></th>\n",
       "      <th>Beverage_category</th>\n",
       "      <th>Beverage</th>\n",
       "      <th>Beverage_prep</th>\n",
       "      <th>Calories</th>\n",
       "      <th>Total Fat (g)</th>\n",
       "      <th>Trans Fat (g)</th>\n",
       "      <th>Saturated Fat (g)</th>\n",
       "      <th>Sodium (mg)</th>\n",
       "      <th>Total Carbohydrates (g)</th>\n",
       "      <th>Cholesterol (mg)</th>\n",
       "      <th>Dietary Fibre (g)</th>\n",
       "      <th>Sugars (g)</th>\n",
       "      <th>Protein (g)</th>\n",
       "      <th>Vitamin A (% DV)</th>\n",
       "      <th>Vitamin C (% DV)</th>\n",
       "      <th>Calcium (% DV)</th>\n",
       "      <th>Iron (% DV)</th>\n",
       "      <th>Caffeine (mg)</th>\n",
       "    </tr>\n",
       "  </thead>\n",
       "  <tbody>\n",
       "    <tr>\n",
       "      <th>50</th>\n",
       "      <td>Classic Espresso Drinks</td>\n",
       "      <td>Cappuccino</td>\n",
       "      <td>Grande Nonfat Milk</td>\n",
       "      <td>80</td>\n",
       "      <td>0.2</td>\n",
       "      <td>0.1</td>\n",
       "      <td>0.0</td>\n",
       "      <td>5</td>\n",
       "      <td>90</td>\n",
       "      <td>12</td>\n",
       "      <td>0</td>\n",
       "      <td>10</td>\n",
       "      <td>8.0</td>\n",
       "      <td>15%</td>\n",
       "      <td>0%</td>\n",
       "      <td>25%</td>\n",
       "      <td>0%</td>\n",
       "      <td>150</td>\n",
       "    </tr>\n",
       "    <tr>\n",
       "      <th>58</th>\n",
       "      <td>Classic Espresso Drinks</td>\n",
       "      <td>Skinny Latte (Any Flavour)</td>\n",
       "      <td>Short Nonfat Milk</td>\n",
       "      <td>60</td>\n",
       "      <td>0.1</td>\n",
       "      <td>0.1</td>\n",
       "      <td>0.0</td>\n",
       "      <td>5</td>\n",
       "      <td>80</td>\n",
       "      <td>9</td>\n",
       "      <td>0</td>\n",
       "      <td>8</td>\n",
       "      <td>6.0</td>\n",
       "      <td>10%</td>\n",
       "      <td>0%</td>\n",
       "      <td>20%</td>\n",
       "      <td>0%</td>\n",
       "      <td>75</td>\n",
       "    </tr>\n",
       "    <tr>\n",
       "      <th>4</th>\n",
       "      <td>Classic Espresso Drinks</td>\n",
       "      <td>Caffè Latte</td>\n",
       "      <td>Short Nonfat Milk</td>\n",
       "      <td>70</td>\n",
       "      <td>0.1</td>\n",
       "      <td>0.1</td>\n",
       "      <td>0.0</td>\n",
       "      <td>5</td>\n",
       "      <td>75</td>\n",
       "      <td>10</td>\n",
       "      <td>0</td>\n",
       "      <td>9</td>\n",
       "      <td>6.0</td>\n",
       "      <td>10%</td>\n",
       "      <td>0%</td>\n",
       "      <td>20%</td>\n",
       "      <td>0%</td>\n",
       "      <td>75</td>\n",
       "    </tr>\n",
       "    <tr>\n",
       "      <th>47</th>\n",
       "      <td>Classic Espresso Drinks</td>\n",
       "      <td>Cappuccino</td>\n",
       "      <td>Tall Nonfat Milk</td>\n",
       "      <td>60</td>\n",
       "      <td>0.1</td>\n",
       "      <td>0.1</td>\n",
       "      <td>0.0</td>\n",
       "      <td>5</td>\n",
       "      <td>70</td>\n",
       "      <td>9</td>\n",
       "      <td>0</td>\n",
       "      <td>8</td>\n",
       "      <td>6.0</td>\n",
       "      <td>10%</td>\n",
       "      <td>0%</td>\n",
       "      <td>20%</td>\n",
       "      <td>0%</td>\n",
       "      <td>75</td>\n",
       "    </tr>\n",
       "    <tr>\n",
       "      <th>48</th>\n",
       "      <td>Classic Espresso Drinks</td>\n",
       "      <td>Cappuccino</td>\n",
       "      <td>2% Milk</td>\n",
       "      <td>90</td>\n",
       "      <td>3.5</td>\n",
       "      <td>1.5</td>\n",
       "      <td>0.1</td>\n",
       "      <td>15</td>\n",
       "      <td>80</td>\n",
       "      <td>9</td>\n",
       "      <td>0</td>\n",
       "      <td>8</td>\n",
       "      <td>6.0</td>\n",
       "      <td>10%</td>\n",
       "      <td>0%</td>\n",
       "      <td>20%</td>\n",
       "      <td>0%</td>\n",
       "      <td>75</td>\n",
       "    </tr>\n",
       "    <tr>\n",
       "      <th>49</th>\n",
       "      <td>Classic Espresso Drinks</td>\n",
       "      <td>Cappuccino</td>\n",
       "      <td>Soymilk</td>\n",
       "      <td>70</td>\n",
       "      <td>3.0</td>\n",
       "      <td>0.4</td>\n",
       "      <td>0.0</td>\n",
       "      <td>0</td>\n",
       "      <td>65</td>\n",
       "      <td>7</td>\n",
       "      <td>1</td>\n",
       "      <td>4</td>\n",
       "      <td>5.0</td>\n",
       "      <td>6%</td>\n",
       "      <td>0%</td>\n",
       "      <td>20%</td>\n",
       "      <td>8%</td>\n",
       "      <td>75</td>\n",
       "    </tr>\n",
       "    <tr>\n",
       "      <th>6</th>\n",
       "      <td>Classic Espresso Drinks</td>\n",
       "      <td>Caffè Latte</td>\n",
       "      <td>Soymilk</td>\n",
       "      <td>70</td>\n",
       "      <td>2.5</td>\n",
       "      <td>0.4</td>\n",
       "      <td>0.0</td>\n",
       "      <td>0</td>\n",
       "      <td>65</td>\n",
       "      <td>6</td>\n",
       "      <td>1</td>\n",
       "      <td>4</td>\n",
       "      <td>5.0</td>\n",
       "      <td>6%</td>\n",
       "      <td>0%</td>\n",
       "      <td>20%</td>\n",
       "      <td>8%</td>\n",
       "      <td>75</td>\n",
       "    </tr>\n",
       "    <tr>\n",
       "      <th>44</th>\n",
       "      <td>Classic Espresso Drinks</td>\n",
       "      <td>Cappuccino</td>\n",
       "      <td>Short Nonfat Milk</td>\n",
       "      <td>50</td>\n",
       "      <td>0.1</td>\n",
       "      <td>0.1</td>\n",
       "      <td>0.0</td>\n",
       "      <td>5</td>\n",
       "      <td>60</td>\n",
       "      <td>8</td>\n",
       "      <td>0</td>\n",
       "      <td>7</td>\n",
       "      <td>5.0</td>\n",
       "      <td>8%</td>\n",
       "      <td>0%</td>\n",
       "      <td>15%</td>\n",
       "      <td>0%</td>\n",
       "      <td>75</td>\n",
       "    </tr>\n",
       "    <tr>\n",
       "      <th>45</th>\n",
       "      <td>Classic Espresso Drinks</td>\n",
       "      <td>Cappuccino</td>\n",
       "      <td>2% Milk</td>\n",
       "      <td>80</td>\n",
       "      <td>3.0</td>\n",
       "      <td>1.5</td>\n",
       "      <td>0.1</td>\n",
       "      <td>10</td>\n",
       "      <td>70</td>\n",
       "      <td>8</td>\n",
       "      <td>0</td>\n",
       "      <td>7</td>\n",
       "      <td>5.0</td>\n",
       "      <td>8%</td>\n",
       "      <td>0%</td>\n",
       "      <td>15%</td>\n",
       "      <td>0%</td>\n",
       "      <td>75</td>\n",
       "    </tr>\n",
       "    <tr>\n",
       "      <th>142</th>\n",
       "      <td>Tazo® Tea Drinks</td>\n",
       "      <td>Tazo® Full-Leaf Red Tea Latte (Vanilla Rooibos)</td>\n",
       "      <td>Short Nonfat Milk</td>\n",
       "      <td>80</td>\n",
       "      <td>0.1</td>\n",
       "      <td>0.1</td>\n",
       "      <td>0.0</td>\n",
       "      <td>0</td>\n",
       "      <td>45</td>\n",
       "      <td>16</td>\n",
       "      <td>0</td>\n",
       "      <td>16</td>\n",
       "      <td>4.0</td>\n",
       "      <td>6%</td>\n",
       "      <td>0%</td>\n",
       "      <td>10%</td>\n",
       "      <td>0%</td>\n",
       "      <td>0</td>\n",
       "    </tr>\n",
       "    <tr>\n",
       "      <th>130</th>\n",
       "      <td>Tazo® Tea Drinks</td>\n",
       "      <td>Tazo® Full-Leaf Tea Latte</td>\n",
       "      <td>Short Nonfat Milk</td>\n",
       "      <td>80</td>\n",
       "      <td>0.1</td>\n",
       "      <td>0.1</td>\n",
       "      <td>0.0</td>\n",
       "      <td>0</td>\n",
       "      <td>45</td>\n",
       "      <td>16</td>\n",
       "      <td>0</td>\n",
       "      <td>16</td>\n",
       "      <td>4.0</td>\n",
       "      <td>6%</td>\n",
       "      <td>0%</td>\n",
       "      <td>10%</td>\n",
       "      <td>0.00%</td>\n",
       "      <td>varies</td>\n",
       "    </tr>\n",
       "    <tr>\n",
       "      <th>144</th>\n",
       "      <td>Tazo® Tea Drinks</td>\n",
       "      <td>Tazo® Full-Leaf Red Tea Latte (Vanilla Rooibos)</td>\n",
       "      <td>Soymilk</td>\n",
       "      <td>80</td>\n",
       "      <td>1.5</td>\n",
       "      <td>0.2</td>\n",
       "      <td>0.0</td>\n",
       "      <td>0</td>\n",
       "      <td>40</td>\n",
       "      <td>14</td>\n",
       "      <td>0</td>\n",
       "      <td>13</td>\n",
       "      <td>3.0</td>\n",
       "      <td>4%</td>\n",
       "      <td>0%</td>\n",
       "      <td>10%</td>\n",
       "      <td>6%</td>\n",
       "      <td>0</td>\n",
       "    </tr>\n",
       "    <tr>\n",
       "      <th>143</th>\n",
       "      <td>Tazo® Tea Drinks</td>\n",
       "      <td>Tazo® Full-Leaf Red Tea Latte (Vanilla Rooibos)</td>\n",
       "      <td>2% Milk</td>\n",
       "      <td>90</td>\n",
       "      <td>2.0</td>\n",
       "      <td>1.0</td>\n",
       "      <td>0.1</td>\n",
       "      <td>10</td>\n",
       "      <td>50</td>\n",
       "      <td>15</td>\n",
       "      <td>0</td>\n",
       "      <td>15</td>\n",
       "      <td>3.0</td>\n",
       "      <td>6%</td>\n",
       "      <td>0%</td>\n",
       "      <td>10%</td>\n",
       "      <td>0%</td>\n",
       "      <td>0</td>\n",
       "    </tr>\n",
       "    <tr>\n",
       "      <th>132</th>\n",
       "      <td>Tazo® Tea Drinks</td>\n",
       "      <td>Tazo® Full-Leaf Tea Latte</td>\n",
       "      <td>Soymilk</td>\n",
       "      <td>80</td>\n",
       "      <td>1.5</td>\n",
       "      <td>0.2</td>\n",
       "      <td>0.0</td>\n",
       "      <td>0</td>\n",
       "      <td>40</td>\n",
       "      <td>14</td>\n",
       "      <td>0</td>\n",
       "      <td>13</td>\n",
       "      <td>3.0</td>\n",
       "      <td>4%</td>\n",
       "      <td>0%</td>\n",
       "      <td>10%</td>\n",
       "      <td>6.00%</td>\n",
       "      <td>varies</td>\n",
       "    </tr>\n",
       "    <tr>\n",
       "      <th>131</th>\n",
       "      <td>Tazo® Tea Drinks</td>\n",
       "      <td>Tazo® Full-Leaf Tea Latte</td>\n",
       "      <td>2% Milk</td>\n",
       "      <td>90</td>\n",
       "      <td>2.0</td>\n",
       "      <td>1.0</td>\n",
       "      <td>0.1</td>\n",
       "      <td>10</td>\n",
       "      <td>50</td>\n",
       "      <td>15</td>\n",
       "      <td>0</td>\n",
       "      <td>15</td>\n",
       "      <td>3.0</td>\n",
       "      <td>6%</td>\n",
       "      <td>0%</td>\n",
       "      <td>10%</td>\n",
       "      <td>0.00%</td>\n",
       "      <td>varies</td>\n",
       "    </tr>\n",
       "    <tr>\n",
       "      <th>217</th>\n",
       "      <td>Frappuccino® Light Blended Coffee</td>\n",
       "      <td>Coffee</td>\n",
       "      <td>Tall Nonfat Milk</td>\n",
       "      <td>90</td>\n",
       "      <td>0.1</td>\n",
       "      <td>0.0</td>\n",
       "      <td>0.0</td>\n",
       "      <td>0</td>\n",
       "      <td>160</td>\n",
       "      <td>20</td>\n",
       "      <td>0</td>\n",
       "      <td>19</td>\n",
       "      <td>3.0</td>\n",
       "      <td>4%</td>\n",
       "      <td>0%</td>\n",
       "      <td>10%</td>\n",
       "      <td>0%</td>\n",
       "      <td>70</td>\n",
       "    </tr>\n",
       "    <tr>\n",
       "      <th>46</th>\n",
       "      <td>Classic Espresso Drinks</td>\n",
       "      <td>Cappuccino</td>\n",
       "      <td>Soymilk</td>\n",
       "      <td>50</td>\n",
       "      <td>1.5</td>\n",
       "      <td>0.2</td>\n",
       "      <td>0.0</td>\n",
       "      <td>0</td>\n",
       "      <td>40</td>\n",
       "      <td>4</td>\n",
       "      <td>0</td>\n",
       "      <td>3</td>\n",
       "      <td>3.0</td>\n",
       "      <td>4%</td>\n",
       "      <td>0%</td>\n",
       "      <td>10%</td>\n",
       "      <td>6%</td>\n",
       "      <td>75</td>\n",
       "    </tr>\n",
       "    <tr>\n",
       "      <th>159</th>\n",
       "      <td>Shaken Iced Beverages</td>\n",
       "      <td>Iced Brewed Coffee (With Milk &amp; Classic Syrup)</td>\n",
       "      <td>Soymilk</td>\n",
       "      <td>80</td>\n",
       "      <td>1.0</td>\n",
       "      <td>0.1</td>\n",
       "      <td>0.0</td>\n",
       "      <td>0</td>\n",
       "      <td>20</td>\n",
       "      <td>17</td>\n",
       "      <td>0</td>\n",
       "      <td>17</td>\n",
       "      <td>2.0</td>\n",
       "      <td>2%</td>\n",
       "      <td>0%</td>\n",
       "      <td>6%</td>\n",
       "      <td>0%</td>\n",
       "      <td>90</td>\n",
       "    </tr>\n",
       "    <tr>\n",
       "      <th>158</th>\n",
       "      <td>Shaken Iced Beverages</td>\n",
       "      <td>Iced Brewed Coffee (With Milk &amp; Classic Syrup)</td>\n",
       "      <td>2% Milk</td>\n",
       "      <td>90</td>\n",
       "      <td>1.0</td>\n",
       "      <td>0.5</td>\n",
       "      <td>0.0</td>\n",
       "      <td>5</td>\n",
       "      <td>25</td>\n",
       "      <td>18</td>\n",
       "      <td>0</td>\n",
       "      <td>18</td>\n",
       "      <td>2.0</td>\n",
       "      <td>2%</td>\n",
       "      <td>0%</td>\n",
       "      <td>6%</td>\n",
       "      <td>0.00%</td>\n",
       "      <td>NaN</td>\n",
       "    </tr>\n",
       "    <tr>\n",
       "      <th>157</th>\n",
       "      <td>Shaken Iced Beverages</td>\n",
       "      <td>Iced Brewed Coffee (With Milk &amp; Classic Syrup)</td>\n",
       "      <td>Tall Nonfat Milk</td>\n",
       "      <td>80</td>\n",
       "      <td>0.1</td>\n",
       "      <td>0.0</td>\n",
       "      <td>0.0</td>\n",
       "      <td>0</td>\n",
       "      <td>25</td>\n",
       "      <td>18</td>\n",
       "      <td>0</td>\n",
       "      <td>18</td>\n",
       "      <td>2.0</td>\n",
       "      <td>2%</td>\n",
       "      <td>0%</td>\n",
       "      <td>6%</td>\n",
       "      <td>0%</td>\n",
       "      <td>90</td>\n",
       "    </tr>\n",
       "    <tr>\n",
       "      <th>3</th>\n",
       "      <td>Coffee</td>\n",
       "      <td>Brewed Coffee</td>\n",
       "      <td>Venti</td>\n",
       "      <td>5</td>\n",
       "      <td>0.1</td>\n",
       "      <td>0.0</td>\n",
       "      <td>0.0</td>\n",
       "      <td>0</td>\n",
       "      <td>10</td>\n",
       "      <td>0</td>\n",
       "      <td>0</td>\n",
       "      <td>0</td>\n",
       "      <td>1.0</td>\n",
       "      <td>0%</td>\n",
       "      <td>0%</td>\n",
       "      <td>2%</td>\n",
       "      <td>0%</td>\n",
       "      <td>410</td>\n",
       "    </tr>\n",
       "    <tr>\n",
       "      <th>57</th>\n",
       "      <td>Classic Espresso Drinks</td>\n",
       "      <td>Espresso</td>\n",
       "      <td>Doppio</td>\n",
       "      <td>10</td>\n",
       "      <td>0.0</td>\n",
       "      <td>0.0</td>\n",
       "      <td>0.0</td>\n",
       "      <td>0</td>\n",
       "      <td>1</td>\n",
       "      <td>2</td>\n",
       "      <td>0</td>\n",
       "      <td>0</td>\n",
       "      <td>1.0</td>\n",
       "      <td>0%</td>\n",
       "      <td>0%</td>\n",
       "      <td>0%</td>\n",
       "      <td>0%</td>\n",
       "      <td>150</td>\n",
       "    </tr>\n",
       "    <tr>\n",
       "      <th>2</th>\n",
       "      <td>Coffee</td>\n",
       "      <td>Brewed Coffee</td>\n",
       "      <td>Grande</td>\n",
       "      <td>5</td>\n",
       "      <td>0.1</td>\n",
       "      <td>0.0</td>\n",
       "      <td>0.0</td>\n",
       "      <td>0</td>\n",
       "      <td>10</td>\n",
       "      <td>0</td>\n",
       "      <td>0</td>\n",
       "      <td>0</td>\n",
       "      <td>1.0</td>\n",
       "      <td>0%</td>\n",
       "      <td>0%</td>\n",
       "      <td>0%</td>\n",
       "      <td>0%</td>\n",
       "      <td>330</td>\n",
       "    </tr>\n",
       "    <tr>\n",
       "      <th>43</th>\n",
       "      <td>Classic Espresso Drinks</td>\n",
       "      <td>Caffè Americano</td>\n",
       "      <td>Venti</td>\n",
       "      <td>25</td>\n",
       "      <td>0.0</td>\n",
       "      <td>0.0</td>\n",
       "      <td>0.0</td>\n",
       "      <td>0</td>\n",
       "      <td>15</td>\n",
       "      <td>4</td>\n",
       "      <td>0</td>\n",
       "      <td>0</td>\n",
       "      <td>1.0</td>\n",
       "      <td>0%</td>\n",
       "      <td>0%</td>\n",
       "      <td>2%</td>\n",
       "      <td>0%</td>\n",
       "      <td>300</td>\n",
       "    </tr>\n",
       "    <tr>\n",
       "      <th>42</th>\n",
       "      <td>Classic Espresso Drinks</td>\n",
       "      <td>Caffè Americano</td>\n",
       "      <td>Grande</td>\n",
       "      <td>15</td>\n",
       "      <td>0.0</td>\n",
       "      <td>0.0</td>\n",
       "      <td>0.0</td>\n",
       "      <td>0</td>\n",
       "      <td>15</td>\n",
       "      <td>3</td>\n",
       "      <td>0</td>\n",
       "      <td>0</td>\n",
       "      <td>1.0</td>\n",
       "      <td>0%</td>\n",
       "      <td>0%</td>\n",
       "      <td>2%</td>\n",
       "      <td>0%</td>\n",
       "      <td>225</td>\n",
       "    </tr>\n",
       "    <tr>\n",
       "      <th>41</th>\n",
       "      <td>Classic Espresso Drinks</td>\n",
       "      <td>Caffè Americano</td>\n",
       "      <td>Tall</td>\n",
       "      <td>10</td>\n",
       "      <td>0.0</td>\n",
       "      <td>0.0</td>\n",
       "      <td>0.0</td>\n",
       "      <td>0</td>\n",
       "      <td>10</td>\n",
       "      <td>2</td>\n",
       "      <td>0</td>\n",
       "      <td>0</td>\n",
       "      <td>1.0</td>\n",
       "      <td>0%</td>\n",
       "      <td>0%</td>\n",
       "      <td>2%</td>\n",
       "      <td>0%</td>\n",
       "      <td>150</td>\n",
       "    </tr>\n",
       "    <tr>\n",
       "      <th>1</th>\n",
       "      <td>Coffee</td>\n",
       "      <td>Brewed Coffee</td>\n",
       "      <td>Tall</td>\n",
       "      <td>4</td>\n",
       "      <td>0.1</td>\n",
       "      <td>0.0</td>\n",
       "      <td>0.0</td>\n",
       "      <td>0</td>\n",
       "      <td>10</td>\n",
       "      <td>0</td>\n",
       "      <td>0</td>\n",
       "      <td>0</td>\n",
       "      <td>0.5</td>\n",
       "      <td>0%</td>\n",
       "      <td>0%</td>\n",
       "      <td>0%</td>\n",
       "      <td>0%</td>\n",
       "      <td>260</td>\n",
       "    </tr>\n",
       "    <tr>\n",
       "      <th>40</th>\n",
       "      <td>Classic Espresso Drinks</td>\n",
       "      <td>Caffè Americano</td>\n",
       "      <td>Short</td>\n",
       "      <td>5</td>\n",
       "      <td>0.0</td>\n",
       "      <td>0.0</td>\n",
       "      <td>0.0</td>\n",
       "      <td>0</td>\n",
       "      <td>5</td>\n",
       "      <td>1</td>\n",
       "      <td>0</td>\n",
       "      <td>0</td>\n",
       "      <td>0.4</td>\n",
       "      <td>0%</td>\n",
       "      <td>0%</td>\n",
       "      <td>0%</td>\n",
       "      <td>0%</td>\n",
       "      <td>75</td>\n",
       "    </tr>\n",
       "    <tr>\n",
       "      <th>56</th>\n",
       "      <td>Classic Espresso Drinks</td>\n",
       "      <td>Espresso</td>\n",
       "      <td>Solo</td>\n",
       "      <td>5</td>\n",
       "      <td>0.0</td>\n",
       "      <td>0.0</td>\n",
       "      <td>0.0</td>\n",
       "      <td>0</td>\n",
       "      <td>0</td>\n",
       "      <td>1</td>\n",
       "      <td>0</td>\n",
       "      <td>0</td>\n",
       "      <td>0.4</td>\n",
       "      <td>0%</td>\n",
       "      <td>0%</td>\n",
       "      <td>0%</td>\n",
       "      <td>0%</td>\n",
       "      <td>75</td>\n",
       "    </tr>\n",
       "    <tr>\n",
       "      <th>155</th>\n",
       "      <td>Shaken Iced Beverages</td>\n",
       "      <td>Iced Brewed Coffee (With Classic Syrup)</td>\n",
       "      <td>Grande</td>\n",
       "      <td>90</td>\n",
       "      <td>0.1</td>\n",
       "      <td>0.0</td>\n",
       "      <td>0.0</td>\n",
       "      <td>0</td>\n",
       "      <td>5</td>\n",
       "      <td>21</td>\n",
       "      <td>0</td>\n",
       "      <td>21</td>\n",
       "      <td>0.3</td>\n",
       "      <td>0%</td>\n",
       "      <td>0%</td>\n",
       "      <td>0%</td>\n",
       "      <td>0%</td>\n",
       "      <td>165</td>\n",
       "    </tr>\n",
       "    <tr>\n",
       "      <th>0</th>\n",
       "      <td>Coffee</td>\n",
       "      <td>Brewed Coffee</td>\n",
       "      <td>Short</td>\n",
       "      <td>3</td>\n",
       "      <td>0.1</td>\n",
       "      <td>0.0</td>\n",
       "      <td>0.0</td>\n",
       "      <td>0</td>\n",
       "      <td>5</td>\n",
       "      <td>0</td>\n",
       "      <td>0</td>\n",
       "      <td>0</td>\n",
       "      <td>0.3</td>\n",
       "      <td>0%</td>\n",
       "      <td>0%</td>\n",
       "      <td>0%</td>\n",
       "      <td>0%</td>\n",
       "      <td>175</td>\n",
       "    </tr>\n",
       "    <tr>\n",
       "      <th>154</th>\n",
       "      <td>Shaken Iced Beverages</td>\n",
       "      <td>Iced Brewed Coffee (With Classic Syrup)</td>\n",
       "      <td>Tall</td>\n",
       "      <td>60</td>\n",
       "      <td>0.0</td>\n",
       "      <td>0.0</td>\n",
       "      <td>0.0</td>\n",
       "      <td>0</td>\n",
       "      <td>4</td>\n",
       "      <td>15</td>\n",
       "      <td>0</td>\n",
       "      <td>15</td>\n",
       "      <td>0.2</td>\n",
       "      <td>0%</td>\n",
       "      <td>0%</td>\n",
       "      <td>0%</td>\n",
       "      <td>0%</td>\n",
       "      <td>120</td>\n",
       "    </tr>\n",
       "    <tr>\n",
       "      <th>105</th>\n",
       "      <td>Tazo® Tea Drinks</td>\n",
       "      <td>Tazo® Tea</td>\n",
       "      <td>Venti</td>\n",
       "      <td>0</td>\n",
       "      <td>0.0</td>\n",
       "      <td>0.0</td>\n",
       "      <td>0.0</td>\n",
       "      <td>0</td>\n",
       "      <td>0</td>\n",
       "      <td>0</td>\n",
       "      <td>0</td>\n",
       "      <td>0</td>\n",
       "      <td>0.0</td>\n",
       "      <td>0%</td>\n",
       "      <td>0%</td>\n",
       "      <td>0%</td>\n",
       "      <td>0%</td>\n",
       "      <td>Varies</td>\n",
       "    </tr>\n",
       "    <tr>\n",
       "      <th>104</th>\n",
       "      <td>Tazo® Tea Drinks</td>\n",
       "      <td>Tazo® Tea</td>\n",
       "      <td>Grande</td>\n",
       "      <td>0</td>\n",
       "      <td>0.0</td>\n",
       "      <td>0.0</td>\n",
       "      <td>0.0</td>\n",
       "      <td>0</td>\n",
       "      <td>0</td>\n",
       "      <td>0</td>\n",
       "      <td>0</td>\n",
       "      <td>0</td>\n",
       "      <td>0.0</td>\n",
       "      <td>0%</td>\n",
       "      <td>0%</td>\n",
       "      <td>0%</td>\n",
       "      <td>0%</td>\n",
       "      <td>Varies</td>\n",
       "    </tr>\n",
       "    <tr>\n",
       "      <th>103</th>\n",
       "      <td>Tazo® Tea Drinks</td>\n",
       "      <td>Tazo® Tea</td>\n",
       "      <td>Tall</td>\n",
       "      <td>0</td>\n",
       "      <td>0.0</td>\n",
       "      <td>0.0</td>\n",
       "      <td>0.0</td>\n",
       "      <td>0</td>\n",
       "      <td>0</td>\n",
       "      <td>0</td>\n",
       "      <td>0</td>\n",
       "      <td>0</td>\n",
       "      <td>0.0</td>\n",
       "      <td>0%</td>\n",
       "      <td>0%</td>\n",
       "      <td>0%</td>\n",
       "      <td>0%</td>\n",
       "      <td>Varies</td>\n",
       "    </tr>\n",
       "    <tr>\n",
       "      <th>102</th>\n",
       "      <td>Tazo® Tea Drinks</td>\n",
       "      <td>Tazo® Tea</td>\n",
       "      <td>Short</td>\n",
       "      <td>0</td>\n",
       "      <td>0.0</td>\n",
       "      <td>0.0</td>\n",
       "      <td>0.0</td>\n",
       "      <td>0</td>\n",
       "      <td>0</td>\n",
       "      <td>0</td>\n",
       "      <td>0</td>\n",
       "      <td>0</td>\n",
       "      <td>0.0</td>\n",
       "      <td>0%</td>\n",
       "      <td>0%</td>\n",
       "      <td>0%</td>\n",
       "      <td>0%</td>\n",
       "      <td>Varies</td>\n",
       "    </tr>\n",
       "    <tr>\n",
       "      <th>166</th>\n",
       "      <td>Shaken Iced Beverages</td>\n",
       "      <td>Shaken Iced Tazo® Tea (With Classic Syrup)</td>\n",
       "      <td>Tall</td>\n",
       "      <td>60</td>\n",
       "      <td>0.0</td>\n",
       "      <td>0.0</td>\n",
       "      <td>0.0</td>\n",
       "      <td>0</td>\n",
       "      <td>0</td>\n",
       "      <td>15</td>\n",
       "      <td>0</td>\n",
       "      <td>15</td>\n",
       "      <td>0.0</td>\n",
       "      <td>0%</td>\n",
       "      <td>0%</td>\n",
       "      <td>0%</td>\n",
       "      <td>6%</td>\n",
       "      <td>170</td>\n",
       "    </tr>\n",
       "    <tr>\n",
       "      <th>167</th>\n",
       "      <td>Shaken Iced Beverages</td>\n",
       "      <td>Shaken Iced Tazo® Tea (With Classic Syrup)</td>\n",
       "      <td>Grande</td>\n",
       "      <td>80</td>\n",
       "      <td>0.0</td>\n",
       "      <td>0.0</td>\n",
       "      <td>0.0</td>\n",
       "      <td>0</td>\n",
       "      <td>0</td>\n",
       "      <td>21</td>\n",
       "      <td>0</td>\n",
       "      <td>21</td>\n",
       "      <td>0.0</td>\n",
       "      <td>0%</td>\n",
       "      <td>0%</td>\n",
       "      <td>0%</td>\n",
       "      <td>0%</td>\n",
       "      <td>Varies</td>\n",
       "    </tr>\n",
       "  </tbody>\n",
       "</table>\n",
       "</div>"
      ],
      "text/plain": [
       "                     Beverage_category  \\\n",
       "50             Classic Espresso Drinks   \n",
       "58             Classic Espresso Drinks   \n",
       "4              Classic Espresso Drinks   \n",
       "47             Classic Espresso Drinks   \n",
       "48             Classic Espresso Drinks   \n",
       "49             Classic Espresso Drinks   \n",
       "6              Classic Espresso Drinks   \n",
       "44             Classic Espresso Drinks   \n",
       "45             Classic Espresso Drinks   \n",
       "142                   Tazo® Tea Drinks   \n",
       "130                   Tazo® Tea Drinks   \n",
       "144                   Tazo® Tea Drinks   \n",
       "143                   Tazo® Tea Drinks   \n",
       "132                   Tazo® Tea Drinks   \n",
       "131                   Tazo® Tea Drinks   \n",
       "217  Frappuccino® Light Blended Coffee   \n",
       "46             Classic Espresso Drinks   \n",
       "159              Shaken Iced Beverages   \n",
       "158              Shaken Iced Beverages   \n",
       "157              Shaken Iced Beverages   \n",
       "3                               Coffee   \n",
       "57             Classic Espresso Drinks   \n",
       "2                               Coffee   \n",
       "43             Classic Espresso Drinks   \n",
       "42             Classic Espresso Drinks   \n",
       "41             Classic Espresso Drinks   \n",
       "1                               Coffee   \n",
       "40             Classic Espresso Drinks   \n",
       "56             Classic Espresso Drinks   \n",
       "155              Shaken Iced Beverages   \n",
       "0                               Coffee   \n",
       "154              Shaken Iced Beverages   \n",
       "105                   Tazo® Tea Drinks   \n",
       "104                   Tazo® Tea Drinks   \n",
       "103                   Tazo® Tea Drinks   \n",
       "102                   Tazo® Tea Drinks   \n",
       "166              Shaken Iced Beverages   \n",
       "167              Shaken Iced Beverages   \n",
       "\n",
       "                                            Beverage       Beverage_prep  \\\n",
       "50                                        Cappuccino  Grande Nonfat Milk   \n",
       "58                        Skinny Latte (Any Flavour)   Short Nonfat Milk   \n",
       "4                                        Caffè Latte   Short Nonfat Milk   \n",
       "47                                        Cappuccino    Tall Nonfat Milk   \n",
       "48                                        Cappuccino             2% Milk   \n",
       "49                                        Cappuccino             Soymilk   \n",
       "6                                        Caffè Latte             Soymilk   \n",
       "44                                        Cappuccino   Short Nonfat Milk   \n",
       "45                                        Cappuccino             2% Milk   \n",
       "142  Tazo® Full-Leaf Red Tea Latte (Vanilla Rooibos)   Short Nonfat Milk   \n",
       "130                        Tazo® Full-Leaf Tea Latte   Short Nonfat Milk   \n",
       "144  Tazo® Full-Leaf Red Tea Latte (Vanilla Rooibos)             Soymilk   \n",
       "143  Tazo® Full-Leaf Red Tea Latte (Vanilla Rooibos)             2% Milk   \n",
       "132                        Tazo® Full-Leaf Tea Latte             Soymilk   \n",
       "131                        Tazo® Full-Leaf Tea Latte             2% Milk   \n",
       "217                                           Coffee    Tall Nonfat Milk   \n",
       "46                                        Cappuccino             Soymilk   \n",
       "159   Iced Brewed Coffee (With Milk & Classic Syrup)             Soymilk   \n",
       "158   Iced Brewed Coffee (With Milk & Classic Syrup)             2% Milk   \n",
       "157   Iced Brewed Coffee (With Milk & Classic Syrup)    Tall Nonfat Milk   \n",
       "3                                      Brewed Coffee               Venti   \n",
       "57                                          Espresso              Doppio   \n",
       "2                                      Brewed Coffee              Grande   \n",
       "43                                   Caffè Americano               Venti   \n",
       "42                                   Caffè Americano              Grande   \n",
       "41                                   Caffè Americano                Tall   \n",
       "1                                      Brewed Coffee                Tall   \n",
       "40                                   Caffè Americano               Short   \n",
       "56                                          Espresso                Solo   \n",
       "155          Iced Brewed Coffee (With Classic Syrup)              Grande   \n",
       "0                                      Brewed Coffee               Short   \n",
       "154          Iced Brewed Coffee (With Classic Syrup)                Tall   \n",
       "105                                        Tazo® Tea               Venti   \n",
       "104                                        Tazo® Tea              Grande   \n",
       "103                                        Tazo® Tea                Tall   \n",
       "102                                        Tazo® Tea               Short   \n",
       "166       Shaken Iced Tazo® Tea (With Classic Syrup)                Tall   \n",
       "167       Shaken Iced Tazo® Tea (With Classic Syrup)              Grande   \n",
       "\n",
       "     Calories  Total Fat (g)  Trans Fat (g)  Saturated Fat (g)   Sodium (mg)  \\\n",
       "50         80            0.2            0.1                0.0             5   \n",
       "58         60            0.1            0.1                0.0             5   \n",
       "4          70            0.1            0.1                0.0             5   \n",
       "47         60            0.1            0.1                0.0             5   \n",
       "48         90            3.5            1.5                0.1            15   \n",
       "49         70            3.0            0.4                0.0             0   \n",
       "6          70            2.5            0.4                0.0             0   \n",
       "44         50            0.1            0.1                0.0             5   \n",
       "45         80            3.0            1.5                0.1            10   \n",
       "142        80            0.1            0.1                0.0             0   \n",
       "130        80            0.1            0.1                0.0             0   \n",
       "144        80            1.5            0.2                0.0             0   \n",
       "143        90            2.0            1.0                0.1            10   \n",
       "132        80            1.5            0.2                0.0             0   \n",
       "131        90            2.0            1.0                0.1            10   \n",
       "217        90            0.1            0.0                0.0             0   \n",
       "46         50            1.5            0.2                0.0             0   \n",
       "159        80            1.0            0.1                0.0             0   \n",
       "158        90            1.0            0.5                0.0             5   \n",
       "157        80            0.1            0.0                0.0             0   \n",
       "3           5            0.1            0.0                0.0             0   \n",
       "57         10            0.0            0.0                0.0             0   \n",
       "2           5            0.1            0.0                0.0             0   \n",
       "43         25            0.0            0.0                0.0             0   \n",
       "42         15            0.0            0.0                0.0             0   \n",
       "41         10            0.0            0.0                0.0             0   \n",
       "1           4            0.1            0.0                0.0             0   \n",
       "40          5            0.0            0.0                0.0             0   \n",
       "56          5            0.0            0.0                0.0             0   \n",
       "155        90            0.1            0.0                0.0             0   \n",
       "0           3            0.1            0.0                0.0             0   \n",
       "154        60            0.0            0.0                0.0             0   \n",
       "105         0            0.0            0.0                0.0             0   \n",
       "104         0            0.0            0.0                0.0             0   \n",
       "103         0            0.0            0.0                0.0             0   \n",
       "102         0            0.0            0.0                0.0             0   \n",
       "166        60            0.0            0.0                0.0             0   \n",
       "167        80            0.0            0.0                0.0             0   \n",
       "\n",
       "     Total Carbohydrates (g)  Cholesterol (mg)  Dietary Fibre (g)  Sugars (g)  \\\n",
       "50                        90                12                  0          10   \n",
       "58                        80                 9                  0           8   \n",
       "4                         75                10                  0           9   \n",
       "47                        70                 9                  0           8   \n",
       "48                        80                 9                  0           8   \n",
       "49                        65                 7                  1           4   \n",
       "6                         65                 6                  1           4   \n",
       "44                        60                 8                  0           7   \n",
       "45                        70                 8                  0           7   \n",
       "142                       45                16                  0          16   \n",
       "130                       45                16                  0          16   \n",
       "144                       40                14                  0          13   \n",
       "143                       50                15                  0          15   \n",
       "132                       40                14                  0          13   \n",
       "131                       50                15                  0          15   \n",
       "217                      160                20                  0          19   \n",
       "46                        40                 4                  0           3   \n",
       "159                       20                17                  0          17   \n",
       "158                       25                18                  0          18   \n",
       "157                       25                18                  0          18   \n",
       "3                         10                 0                  0           0   \n",
       "57                         1                 2                  0           0   \n",
       "2                         10                 0                  0           0   \n",
       "43                        15                 4                  0           0   \n",
       "42                        15                 3                  0           0   \n",
       "41                        10                 2                  0           0   \n",
       "1                         10                 0                  0           0   \n",
       "40                         5                 1                  0           0   \n",
       "56                         0                 1                  0           0   \n",
       "155                        5                21                  0          21   \n",
       "0                          5                 0                  0           0   \n",
       "154                        4                15                  0          15   \n",
       "105                        0                 0                  0           0   \n",
       "104                        0                 0                  0           0   \n",
       "103                        0                 0                  0           0   \n",
       "102                        0                 0                  0           0   \n",
       "166                        0                15                  0          15   \n",
       "167                        0                21                  0          21   \n",
       "\n",
       "     Protein (g) Vitamin A (% DV) Vitamin C (% DV) Calcium (% DV) Iron (% DV)  \\\n",
       "50           8.0              15%               0%            25%          0%   \n",
       "58           6.0              10%               0%            20%          0%   \n",
       "4            6.0              10%               0%            20%          0%   \n",
       "47           6.0              10%               0%            20%          0%   \n",
       "48           6.0              10%               0%            20%          0%   \n",
       "49           5.0               6%               0%            20%          8%   \n",
       "6            5.0               6%               0%            20%          8%   \n",
       "44           5.0               8%               0%            15%          0%   \n",
       "45           5.0               8%               0%            15%          0%   \n",
       "142          4.0               6%               0%            10%          0%   \n",
       "130          4.0               6%               0%            10%       0.00%   \n",
       "144          3.0               4%               0%            10%          6%   \n",
       "143          3.0               6%               0%            10%          0%   \n",
       "132          3.0               4%               0%            10%       6.00%   \n",
       "131          3.0               6%               0%            10%       0.00%   \n",
       "217          3.0               4%               0%            10%          0%   \n",
       "46           3.0               4%               0%            10%          6%   \n",
       "159          2.0               2%               0%             6%          0%   \n",
       "158          2.0               2%               0%             6%       0.00%   \n",
       "157          2.0               2%               0%             6%          0%   \n",
       "3            1.0               0%               0%             2%          0%   \n",
       "57           1.0               0%               0%             0%          0%   \n",
       "2            1.0               0%               0%             0%          0%   \n",
       "43           1.0               0%               0%             2%          0%   \n",
       "42           1.0               0%               0%             2%          0%   \n",
       "41           1.0               0%               0%             2%          0%   \n",
       "1            0.5               0%               0%             0%          0%   \n",
       "40           0.4               0%               0%             0%          0%   \n",
       "56           0.4               0%               0%             0%          0%   \n",
       "155          0.3               0%               0%             0%          0%   \n",
       "0            0.3               0%               0%             0%          0%   \n",
       "154          0.2               0%               0%             0%          0%   \n",
       "105          0.0               0%               0%             0%          0%   \n",
       "104          0.0               0%               0%             0%          0%   \n",
       "103          0.0               0%               0%             0%          0%   \n",
       "102          0.0               0%               0%             0%          0%   \n",
       "166          0.0               0%               0%             0%          6%   \n",
       "167          0.0               0%               0%             0%          0%   \n",
       "\n",
       "    Caffeine (mg)  \n",
       "50            150  \n",
       "58             75  \n",
       "4              75  \n",
       "47             75  \n",
       "48             75  \n",
       "49             75  \n",
       "6              75  \n",
       "44             75  \n",
       "45             75  \n",
       "142             0  \n",
       "130        varies  \n",
       "144             0  \n",
       "143             0  \n",
       "132        varies  \n",
       "131        varies  \n",
       "217            70  \n",
       "46             75  \n",
       "159            90  \n",
       "158           NaN  \n",
       "157            90  \n",
       "3             410  \n",
       "57            150  \n",
       "2             330  \n",
       "43            300  \n",
       "42            225  \n",
       "41            150  \n",
       "1             260  \n",
       "40             75  \n",
       "56             75  \n",
       "155           165  \n",
       "0             175  \n",
       "154           120  \n",
       "105        Varies  \n",
       "104        Varies  \n",
       "103        Varies  \n",
       "102        Varies  \n",
       "166           170  \n",
       "167        Varies  "
      ]
     },
     "execution_count": 81,
     "metadata": {},
     "output_type": "execute_result"
    }
   ],
   "source": [
    "# It's bulking season. What drink should Renee get so that she maximizes protein but minimizes calories?\n",
    "# (you can use more than one line for this one)\n",
    "# there are multiple valid approaches you can take for this (with different answers)\n",
    "# I know that you want more calories for bulking season but whatever this is MDST, not Michigan Muscle Club okay\n",
    "\n",
    "#starbucks.groupby(\"Beverage\")[[\"Calories\", \"Protein (g)\"]].agg({\"Calories\": \"mean\", \"Protein (g)\": \"mean\"})\n",
    "starbucks[[\"Calories\", \"Protein (g)\"]].agg({\"Calories\": \"mean\", \"Protein (g)\": \"mean\"})\n",
    "starbucks[[\"Calories\", \"Protein (g)\"]].agg({\"Calories\": \"std\", \"Protein (g)\": \"std\"})\n",
    "# 193.871901 - 102.863303 one sd lower about 91 (starbucks[\"Protein (g)\"] == 20.0)]\n",
    "new = starbucks[(starbucks[\"Calories\"] < 91)]\n",
    "new.sort_values(by = \"Protein (g)\", ascending=False)\n",
    "# Cappuccino is fine. "
   ]
  },
  {
   "cell_type": "code",
   "execution_count": 82,
   "metadata": {},
   "outputs": [
    {
     "data": {
      "text/plain": [
       "<matplotlib.axes._subplots.AxesSubplot at 0x226f9a0b9d0>"
      ]
     },
     "execution_count": 82,
     "metadata": {},
     "output_type": "execute_result"
    },
    {
     "data": {
      "image/png": "[encoded data removed]",
      "text/plain": [
       "<Figure size 432x288 with 1 Axes>"
      ]
     },
     "metadata": {},
     "output_type": "display_data"
    }
   ],
   "source": [
    "# plot the distribution of the number of calories in drinks using matplotlib\n",
    "starbucks[\"Calories\"].plot.hist(bins=50)"
   ]
  },
  {
   "cell_type": "code",
   "execution_count": 83,
   "metadata": {},
   "outputs": [
    {
     "data": {
      "text/plain": [
       "<seaborn.axisgrid.FacetGrid at 0x226fda0c8b0>"
      ]
     },
     "execution_count": 83,
     "metadata": {},
     "output_type": "execute_result"
    },
    {
     "data": {
      "image/png": "[encoded data removed]",
      "text/plain": [
       "<Figure size 432x288 with 1 Axes>"
      ]
     },
     "metadata": {},
     "output_type": "display_data"
    },
    {
     "data": {
      "image/png": "[encoded data removed]",
      "text/plain": [
       "<Figure size 360x360 with 1 Axes>"
      ]
     },
     "metadata": {},
     "output_type": "display_data"
    }
   ],
   "source": [
    "# plot the same distribution using seaborn. what about a density plot instead?\n",
    "sns.histplot(data=starbucks, x=\"Calories\", bins=50)\n",
    "sns.displot(data=starbucks, x=\"Calories\", kind=\"kde\")\n",
    "# notes： displot is figure-level, histplot is axes level. "
   ]
  },
  {
   "cell_type": "code",
   "execution_count": 84,
   "metadata": {},
   "outputs": [
    {
     "data": {
      "text/plain": [
       "<seaborn.axisgrid.JointGrid at 0x226fd955370>"
      ]
     },
     "execution_count": 84,
     "metadata": {},
     "output_type": "execute_result"
    },
    {
     "data": {
      "image/png": "[encoded data removed]",
      "text/plain": [
       "<Figure size 432x432 with 3 Axes>"
      ]
     },
     "metadata": {},
     "output_type": "display_data"
    },
    {
     "data": {
      "image/png": "[encoded data removed]",
      "text/plain": [
       "<Figure size 432x432 with 3 Axes>"
      ]
     },
     "metadata": {},
     "output_type": "display_data"
    }
   ],
   "source": [
    "# plot calories against total fat using seaborn\n",
    "sns.jointplot(data=starbucks, x=\"Calories\", y=\"Total Fat (g)\")\n",
    "sns.jointplot(data=starbucks, x=\"Calories\", y=\"Total Fat (g)\", kind = \"kde\")"
   ]
  },
  {
   "cell_type": "code",
   "execution_count": 85,
   "metadata": {},
   "outputs": [
    {
     "data": {
      "text/plain": [
       "<seaborn.axisgrid.FacetGrid at 0x226f9aa6160>"
      ]
     },
     "execution_count": 85,
     "metadata": {},
     "output_type": "execute_result"
    },
    {
     "data": {
      "image/png": "[encoded data removed]",
      "text/plain": [
       "<Figure size 494.85x360 with 1 Axes>"
      ]
     },
     "metadata": {},
     "output_type": "display_data"
    }
   ],
   "source": [
    "# plot the distribution of calories in Short, Tall, Grande, and Venti drinks\n",
    "# (you can use multiple lines for this)\n",
    "# twist: you should also include the Nonfat Milk drinks that also have an associated size.\n",
    "\n",
    "# you can decide how you want to visualize this. Colors? Small multiples? Density vs histogram?\n",
    "# the starbucks is your oyster.\n",
    "starbucks= starbucks[starbucks[\"Beverage_prep\"].str.contains(\"Nonfat\")| starbucks[\"Beverage_prep\"].str.contains(\"Short\")|\n",
    "         starbucks[\"Beverage_prep\"].str.contains(\"Tall\")|\n",
    "         starbucks[\"Beverage_prep\"].str.contains(\"Grande\")|\n",
    "         starbucks[\"Beverage_prep\"].str.contains(\"Venti\")]\n",
    "sns.displot(data=starbucks, x=\"Calories\", hue=\"Beverage_prep\", kind = \"kde\")"
   ]
  }
 ],
 "metadata": {
  "colab": {
   "name": "Numpy and Pandas.ipynb",
   "provenance": []
  },
  "kernelspec": {
   "display_name": "Python 3",
   "language": "python",
   "name": "python3"
  },
  "language_info": {
   "codemirror_mode": {
    "name": "ipython",
    "version": 3
   },
   "file_extension": ".py",
   "mimetype": "text/x-python",
   "name": "python",
   "nbconvert_exporter": "python",
   "pygments_lexer": "ipython3",
   "version": "3.8.3"
  }
 },
 "nbformat": 4,
 "nbformat_minor": 1
}
